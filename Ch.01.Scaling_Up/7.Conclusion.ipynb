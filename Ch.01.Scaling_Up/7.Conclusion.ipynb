{
 "cells": [
  {
   "cell_type": "markdown",
   "metadata": {},
   "source": [
    "# Summary\n",
    "\n",
    "This chapter spoke primarily about the art of social data science. This involves both the art of good operationalisation and the art of good coding. The reasons we see these as arts is because they often involve the subjective understandings of people. While we often strive for objectivity in science, it should be seen as a form of continual negotiation. The more objective we make something the more it becomes brittle and systematic. The more subjective we make something, the more personal and experiential it is. What we want is to draw upon our personal understandings to come up with a data analysis that is fair to the phenomenon so hopefully we can achieve work that is both valid and reliable. But phenomena change over time as do our understandings of what to label the phenomenon or how to describe what goes into or is excluded from classifying. \n",
    "\n",
    "This tightrope walk of trying to be objective but not so objective as to ignore contingency is tricky. Accepting its inevitability will help you make better decisions when coding and better conclusions from your analysis. Now with much of this wisdom already stated, let's begin learning some of the key skills in Python that can help us get data in a form to analyse. Then we can start to explore this data, refine our specific questions and look at ways of creating specific actionable and ideally insightful research projects. "
   ]
  },
  {
   "cell_type": "code",
   "execution_count": null,
   "metadata": {},
   "outputs": [],
   "source": []
  }
 ],
 "metadata": {
  "kernelspec": {
   "display_name": "Python 3",
   "language": "python",
   "name": "python3"
  },
  "language_info": {
   "codemirror_mode": {
    "name": "ipython",
    "version": 3
   },
   "file_extension": ".py",
   "mimetype": "text/x-python",
   "name": "python",
   "nbconvert_exporter": "python",
   "pygments_lexer": "ipython3",
   "version": "3.7.3"
  }
 },
 "nbformat": 4,
 "nbformat_minor": 4
}
