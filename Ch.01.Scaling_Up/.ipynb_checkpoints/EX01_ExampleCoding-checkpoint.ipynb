{
 "cells": [
  {
   "cell_type": "code",
   "execution_count": null,
   "metadata": {},
   "outputs": [],
   "source": [
    "# Showing how to "
   ]
  },
  {
   "cell_type": "code",
   "execution_count": 1,
   "metadata": {},
   "outputs": [
    {
     "name": "stdout",
     "output_type": "stream",
     "text": [
      "Bernie.Hogan Scott.Hale\n"
     ]
    }
   ],
   "source": [
    "# Name from email\n",
    "email1 = \"Bernie.Hogan@gmail.com\"\n",
    "email_parts = email1.split(\"@\")\n",
    "name1 = email_parts[0]\n",
    "\n",
    "email2 = \"Scott.Hale@oii.ox.ac.uk\"\n",
    "email_parts = email2.split(\"@\")\n",
    "name2 = email_parts[0]\n",
    "print(name1,name2)"
   ]
  },
  {
   "cell_type": "code",
   "execution_count": 2,
   "metadata": {},
   "outputs": [
    {
     "name": "stdout",
     "output_type": "stream",
     "text": [
      "['bernie.hogan', 'Scott.hale', 'Taha.Yasseri']\n"
     ]
    }
   ],
   "source": [
    "# Attempt number 2\n",
    "email_list = [\"bernie.hogan@gmail.com\",\"Scott.hale@oii.ox.ac.uk\",\"Taha.Yasseri@oii.ox.ac.uk\"]\n",
    "names = []\n",
    "for email in email_list: \n",
    "    names.append(email.split(\"@\")[0])\n",
    "print(names)"
   ]
  },
  {
   "cell_type": "markdown",
   "metadata": {},
   "source": [
    "# FREE Coding "
   ]
  },
  {
   "cell_type": "markdown",
   "metadata": {},
   "source": [
    "## An example that is functional"
   ]
  },
  {
   "cell_type": "code",
   "execution_count": 13,
   "metadata": {},
   "outputs": [
    {
     "name": "stdout",
     "output_type": "stream",
     "text": [
      "9\n"
     ]
    }
   ],
   "source": [
    "def square(number):\n",
    "    squarednumber = number * number  \n",
    "    return squarednumber\n",
    "\n",
    "print(square(3))"
   ]
  },
  {
   "cell_type": "markdown",
   "metadata": {},
   "source": [
    "## An example that is more robust"
   ]
  },
  {
   "cell_type": "code",
   "execution_count": 12,
   "metadata": {},
   "outputs": [
    {
     "name": "stdout",
     "output_type": "stream",
     "text": [
      "False\n",
      "9\n"
     ]
    }
   ],
   "source": [
    "import numbers \n",
    "\n",
    "def square(number):\n",
    "    if isinstance(number, numbers.Number):\n",
    "        squarednumber = number * number  \n",
    "        return squarednumber\n",
    "    else:\n",
    "        return False\n",
    "\n",
    "print(square(\"b\"))\n",
    "print(square(3))"
   ]
  },
  {
   "cell_type": "markdown",
   "metadata": {},
   "source": [
    "## An example that is more elegant"
   ]
  },
  {
   "cell_type": "code",
   "execution_count": 11,
   "metadata": {},
   "outputs": [
    {
     "name": "stdout",
     "output_type": "stream",
     "text": [
      "False\n",
      "9\n"
     ]
    }
   ],
   "source": [
    "def square(number):\n",
    "    if isinstance(number, numbers.Number):\n",
    "        return number * number\n",
    "    else:\n",
    "        return False\n",
    "    \n",
    "print(square(\"b\"))\n",
    "print(square(3))    "
   ]
  },
  {
   "cell_type": "code",
   "execution_count": 10,
   "metadata": {},
   "outputs": [
    {
     "name": "stdout",
     "output_type": "stream",
     "text": [
      "False\n",
      "81\n"
     ]
    }
   ],
   "source": [
    "def powersOf(number,power = 2):\n",
    "    if isinstance(number, numbers.Number):\n",
    "        return number ** power\n",
    "    else:\n",
    "        return False\n",
    "    \n",
    "print(powersOf(\"b\",3))\n",
    "print(powersOf(3,4))    "
   ]
  },
  {
   "cell_type": "code",
   "execution_count": null,
   "metadata": {},
   "outputs": [],
   "source": []
  }
 ],
 "metadata": {
  "kernelspec": {
   "display_name": "Python 3",
   "language": "python",
   "name": "python3"
  },
  "language_info": {
   "codemirror_mode": {
    "name": "ipython",
    "version": 3
   },
   "file_extension": ".py",
   "mimetype": "text/x-python",
   "name": "python",
   "nbconvert_exporter": "python",
   "pygments_lexer": "ipython3",
   "version": "3.7.3"
  }
 },
 "nbformat": 4,
 "nbformat_minor": 4
}
