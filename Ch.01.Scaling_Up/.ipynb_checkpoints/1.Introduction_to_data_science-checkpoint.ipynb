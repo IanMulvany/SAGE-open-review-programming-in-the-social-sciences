{
 "cells": [
  {
   "cell_type": "markdown",
   "metadata": {},
   "source": [
    "Ask a dozen data scientists to define the field and you'll get at least 13 answers, 12 from the scientists themelves and one from the cheeky scientist who classifies all those answers and comes up with a meta-answer. It's a new field and frankly, it is not clear whether it is a field in its own right or a transdisciplinary practice meant to inform existing fields. One thing is for sure, though: people produce a lot of data. \n",
    "\n",
    "Unfortunately, defining social science is probably just as hard as defining data science. Clearly sociology and political science belong in there, but what about linguistics? Psychology? Ok, maybe social psychology? It turns out, articulating the boundaries around specific scientific practices is itself a recipe for contention. Personally, I like to say I'm promiscuous with theories and conservative with claims. We can, and should, find our ideas from a variety of sources all around us, but our claims about the world should be much more cautious. Within this context, I see social science as any practice that makes claims about groups of individuals _that could be_ testable or falsifiable under clearly defined conditions. This is not to  say that these conditions will be met. In fact, sometimes, it is pretty impossible to meet those conditions in real life with humans, because humans are clever and meddlesome creatures but also because researchers aspire to be ethical and understand that we are both, in the grand scheme of things, researchers and potential subjects. We must deal not only with insights from our data but feedback from the population about which such insights are formed. If we discover \"people who post tweets during the morning are happier\", we must contend with possibility that this very claim will lead to even more tweeting during the morning if it makes headlines. This is where the cold analyitc findings of data science meet the twisty, cautious, feedback loop world of social science. And now, under the right conditions the two can be mutually informative.  \n",
    "\n",
    "This book is not meant to be an encyclopaedic reference for data sceince and nor is it meant to be a cutting edge book in the latest practices. It's meant to help you learn and do. For this, it means we have to take things step-by-step with few assumptions and a lot of patience. Two things we want to avoid in this book: information overload and impostor syndrome. \n",
    "\n",
    "Information overload is an experience of having more information available than can be processed for the current task. It's like having a menu with 40 pages of entrees, many of which have names or ingredients you have never heard of. We want to avoid introducing too many concepts before being able to do something. \n",
    "\n",
    "Related to information overload is imposter syndrome. Imposter symdrome takes ahold when people, typically students, judge themselves against the accomplishments of others (often unfairly) and believe that they simply do not measure up or should not be in the program there are in. First, as someone who has done admissions at my university a few times, let's just say that if you were given an offer, you fit in. Second, the loudest student is not necessarily the most competent (and often they are not). I raise imposter syndrome here because when you're given too much information it is often the case that you will think it is you, the reader, who has the problem. Actually, it is probably the writer. Let's face it, on first reading virtually no one will understand or remember everything. Yet, some people set up really high expectations or believe they should be able to get it immediately. Then when they don't, some peopel feel that maybe they do not belong. Let's say this right now: you belong. If you can read this book, you can code. Do not let the haters and the show offs get to you. \n",
    "\n",
    "Often times, people will focus on the skills they are strongest at to the deteriment of skills they often need. If I had a dollar for every pretty but uninterpreted data visualisation I've seen I could pay someone else to write this book. Fortunately, social scientists are often very skilled with interpretation. We focus on unintended consequences, externalities, biases, historical artefacts, spurious correlations, and many, many contingencies behind the data. The social scientist is thus often playing the part of a skeptic rather than a sage. This makes social scientists really great candidates for learning data science techniques --they are interested almost by nature in interpretation-- and weary of cavalier interpretations regardless of how impressive the data were. \n",
    "\n",
    "This skepticism makes for a great data scientist because it makes every step of the process a satisfying puzzle. Whether it is how to count the number of sentences in a text or how to detect polarisation in conversations, each step has to be done with care and caution. Further, when done right each step can be a source of interest and insight. \n",
    "\n",
    "In this book we weave in this concern for care with practical skills in programming. The result, I hope, is a book you'll use and return to when asking and answering questions important to you and your research. By the end you will have an impressive ensemble of data science skills and hopefully a clear sense both of how do to use these skills and also how to interpret the insights that come from applying data science skills to social science data."
   ]
  }
 ],
 "metadata": {
  "kernelspec": {
   "display_name": "Python 3",
   "language": "python",
   "name": "python3"
  },
  "language_info": {
   "codemirror_mode": {
    "name": "ipython",
    "version": 3
   },
   "file_extension": ".py",
   "mimetype": "text/x-python",
   "name": "python",
   "nbconvert_exporter": "python",
   "pygments_lexer": "ipython3",
   "version": "3.7.0"
  }
 },
 "nbformat": 4,
 "nbformat_minor": 2
}
