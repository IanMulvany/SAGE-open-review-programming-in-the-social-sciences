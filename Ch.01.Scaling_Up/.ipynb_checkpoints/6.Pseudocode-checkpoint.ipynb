{
 "cells": [
  {
   "cell_type": "markdown",
   "metadata": {},
   "source": [
    "# Pseudocode (and pseudo-pseudocode)\n",
    "\n",
    "Pseudo code is a means by which we articulate what we want to do with code without being too careful syntactically. It's about clearing away the specifics or abstracting them from the code. Often, well written pseudocode can translate very easily into running code. One of the nice things about pseudocode is that it can help us resolve some fixed/marginal cost decisions. We can refactor pseudocode simply by rewriting it rather than worrying about all the little issues with debugging. When planning some approach to exercises in this book or in your own research, it will often be helpful to use pseudocode first.\n",
    "\n",
    "## Pseduo-pseduocode? \n",
    "\n",
    "Pseudocode is not quite computer code. But it is often written in a format that is close to formal. Have a look at Springer's LINCS books (Lectures in Computer Science) to see that even the pseudocode itself is quite formal. Below we will look at a simple algorithm (the geometric mean) as an example. This will include both pseudocode in a mathematical sense but also in a more informal sense. In all cases, we will want to ensure that the instructions are functional, but it will not include many of the things that make it robust. \n",
    "\n",
    "Now there's no real thing as pseudo-pseudocode. But here I want to suggest that pseudocode varies in its syntactic clarity. More formal pseudocode uses specific mathematical symbols or follows the general syntax of a specific language. More informal pseudocode is simply a set of instructions, written in an inconsistent or conversational style. This is not a bad thing. The function of pseudocode is to help you organize your thoughts. If you are trying to organise and writing it in a certain way helps, then don't fret over its formality. However, when you go to share this with someone else, the more formal, the less likely that there will be ambiguity about what you meant. \n",
    "\n",
    "Have a look at the following four examples referring to the arithmetic mean. In a way they are all pseudocode but they do vary both in terms of how easily it is said and how much ambiguity is involved. "
   ]
  },
  {
   "cell_type": "markdown",
   "metadata": {},
   "source": [
    "## Attempt 1. Pseudocode as written word: \n",
    "\n",
    "Add all of the elements together and divide by the number of elements. "
   ]
  },
  {
   "cell_type": "markdown",
   "metadata": {},
   "source": [
    "## Attempt 2. Pseudocode as mathematical: \n",
    "\n",
    "$$\\bar{x} = \\frac{1}{n}\\sum_{i=1}^{n} w_i $$\n",
    "\n",
    "Note that here, someone familiar with the formula could probably detect what is happening. However, if you do not read math, then it can be a challenge. The big E-like character means sum all the elements. The $w$ refers to any element and the subscript $w_i$ means that it is done for each element $w$. It is our 'iterator'. The rest you can probably get yourself, but just a note that it is often convention to place a bar over a variable to imply it is the average of that variable. So $\\bar{x}$ means the average (usually taken to be specifically the 'arithmetic mean') of $x$."
   ]
  },
  {
   "cell_type": "markdown",
   "metadata": {},
   "source": [
    "## Attempt 3. Pseudocode as written code: \n",
    "\n",
    "```\n",
    "get a collection of elements \n",
    "get count of elements \n",
    "set total at zero \n",
    "\n",
    "for each element: \n",
    "    add value to total\n",
    "    \n",
    "result equals total divided by number of elements \n",
    "```"
   ]
  },
  {
   "cell_type": "markdown",
   "metadata": {},
   "source": [
    "## Attempt 4. Slightly more formal pseudocode (in a Python style): \n",
    "\n",
    "~~~ python\n",
    "def average(elements): \n",
    "    count = length(elements)\n",
    "    total = 0\n",
    "    for element in elements: \n",
    "        total += element \n",
    "    return (total/count)\n",
    "~~~\n",
    "\n",
    "In all honesty I did not mean to write Attempt 4 as working Python but it is highly likely that the formal code would change little from Attempt 4. The only difference I can see here is that I would first like to check if each of the elements is a number and that getting the length of elements requires a method called ```len()``` not ```length()```. "
   ]
  }
 ],
 "metadata": {
  "kernelspec": {
   "display_name": "Python 3",
   "language": "python",
   "name": "python3"
  },
  "language_info": {
   "codemirror_mode": {
    "name": "ipython",
    "version": 3
   },
   "file_extension": ".py",
   "mimetype": "text/x-python",
   "name": "python",
   "nbconvert_exporter": "python",
   "pygments_lexer": "ipython3",
   "version": "3.7.3"
  }
 },
 "nbformat": 4,
 "nbformat_minor": 4
}
