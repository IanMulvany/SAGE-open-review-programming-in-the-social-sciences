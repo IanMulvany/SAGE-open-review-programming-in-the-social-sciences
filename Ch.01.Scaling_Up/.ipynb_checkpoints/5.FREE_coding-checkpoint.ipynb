{
 "cells": [
  {
   "cell_type": "markdown",
   "metadata": {},
   "source": [
    "# Code should be FREE\n",
    "\n",
    "Below is an explanation of the idea that code must be FREE. It's a bit of a pun in the coding world, there is a major movement in most technical arenas to make code Free and Open Source. While it is important to familiarise yourself with the notion of free and open source coding, this is a different matter. Here FREE is mnemonic to help you understand how to focus your coding efforts. \n",
    "\n",
    "- **F**unctional \n",
    "- **R**obust\n",
    "- **E**legant\n",
    "- **E**fficient\n"
   ]
  },
  {
   "cell_type": "markdown",
   "metadata": {},
   "source": [
    "## Functional code\n",
    "\n",
    "Functional code is code that gives the expected result. If you are building a way to calculate a series of numbers or run a slice from a DataFrame, in all cases you want the answer to be correct, or as expected. \n",
    "\n",
    "In the case of functions and methods, this does not mean that you are meeting all eventualities. It means that you are abiding by the pre-condition / post-condition contract. This contract is important for building modular code. Each module (whether it is a script, a class file or a program in its own right) has a sense of what is the correct input. This is the 'pre-condition'. If this pre-condition is satisfied then the post-condition will be correcct. \n",
    "\n",
    "For example, if you give me an integer and I say I will square it, then for every integer I should be able to do this. \n",
    "\n",
    "``` python\n",
    "def square(number):\n",
    "    squarednumber = number * number  \n",
    "    return squarednumber\n",
    "```\n",
    "\n",
    "Treated as a 'black box', we can say that if you give this function a number then it will return the correct, squared value.\n",
    "\n",
    "Finally, a note on language. This is functional code in the sense that it functions as expected. There is also a notion of 'functional programming', which is a style of programming. That's not what we mean here. We mean code that gets the correct result. "
   ]
  },
  {
   "cell_type": "markdown",
   "metadata": {},
   "source": [
    "## Robust code\n",
    "\n",
    "Code that is funcctional with the precondition might not be functional in other contexts. What if the user sends in a string (which we know cannot be squared)? What if a user sends in a really long integer, longer than you would normally expect, but still an integer? This is where we need to think about how to ensure that our code is not simply functioning, but robust. \n",
    "\n",
    "One common way to ensure robust code is to check for data types. Another is to use try / catch statements. The most thorough way is to use _unit tests_. In our example, we can make the code more robust by checking that the input is a number. If it is, we square it, and if it is not, we return False. "
   ]
  },
  {
   "cell_type": "code",
   "execution_count": 15,
   "metadata": {},
   "outputs": [
    {
     "data": {
      "text/plain": [
       "False"
      ]
     },
     "execution_count": 15,
     "metadata": {},
     "output_type": "execute_result"
    }
   ],
   "source": [
    "import numbers \n",
    "\n",
    "def square(number):\n",
    "    if isinstance(number, numbers.Number):\n",
    "        squarednumber = number * number  \n",
    "        return squarednumber\n",
    "    else:\n",
    "        return False\n",
    "\n",
    "square(\"b\")"
   ]
  },
  {
   "cell_type": "markdown",
   "metadata": {},
   "source": [
    "## Elegant\n",
    "\n",
    "Code that is elegant is code that doesn't waste space or add extra layers of complexity. This is where our barn building comes in. \n",
    "\n",
    "If we have to do some data processing and we do type out the same task repeatedly our code is not very elegant. Often times, it is said that reusable code is good code. This does not necessarily mean reusable by someone else. It can also mean reused within the same program. In the example above, our code is somewhat elegant in that it uses a function to perform some action and that function can be reused. But you will also notice that it creates a new variable \"squarednumber\". We can simply get rid of that and return the square directly. \n",
    "``` python\n",
    "def square(number):\n",
    "    if isinstance(number, numbers.Number):\n",
    "        return number * number\n",
    "    else:\n",
    "        return False\n",
    "```\n",
    "\n",
    "We can further think about ways to simplfy our code. For example, we could make the function \"powersOf\" rather than square and make 2 the default:\n",
    "\n",
    "``` python\n",
    "def powersOf(number,power = 2):\n",
    "    if isinstance(number, numbers.Number):\n",
    "        return number ** power\n",
    "    else:\n",
    "        return False\n",
    "```\n",
    "In this second case, the code might not be the most efficient (because it creates a second variable, \"power\". But it is elegant in terms of functions. of course, we could go too far in the other direction: we could make a completely general purpose function with hundreds or thousands of arguments. That wouldn't be elegant either becuase of all the possible contingencies and the fact that our code is likely to be messy and disorganized. \n",
    "\n",
    "There is an art to thinking about what level of abstraction works best. It is where we shift our skills from being strictly programmatic to thinking of coding as writing."
   ]
  },
  {
   "cell_type": "markdown",
   "metadata": {},
   "source": [
    "## Efficient \n",
    "\n",
    "All else equal, we want our code to be as efficient as possible. However, that's asssuming the first three things are taken care of. In python, there are a variety of means to make code more efficient. For example, there is the [time and timeit modules](https://github.com/jakevdp/PythonDataScienceHandbook/blob/master/notebooks/01.07-Timing-and-Profiling.ipynb) which can be used to get a sense of how long a task takes. \n",
    "\n",
    "Overall, efficient code tends to make use of low level python features. For example, \"broadcasting\" is more efficent than going through a for loop one at a time. But these sorts of tricks tend to beccome known as they are needed. In most cases, the greatest speed bump in code is reading bad code, not in running slow code. That's obviously not the case for the biggest data, but even then code has to be functional and robust first and foremost and ought to be elegant for the developers seeking to use that code."
   ]
  },
  {
   "cell_type": "code",
   "execution_count": null,
   "metadata": {},
   "outputs": [],
   "source": [
    "xx timeit"
   ]
  }
 ],
 "metadata": {
  "kernelspec": {
   "display_name": "Python 3",
   "language": "python",
   "name": "python3"
  },
  "language_info": {
   "codemirror_mode": {
    "name": "ipython",
    "version": 3
   },
   "file_extension": ".py",
   "mimetype": "text/x-python",
   "name": "python",
   "nbconvert_exporter": "python",
   "pygments_lexer": "ipython3",
   "version": "3.7.3"
  }
 },
 "nbformat": 4,
 "nbformat_minor": 2
}
