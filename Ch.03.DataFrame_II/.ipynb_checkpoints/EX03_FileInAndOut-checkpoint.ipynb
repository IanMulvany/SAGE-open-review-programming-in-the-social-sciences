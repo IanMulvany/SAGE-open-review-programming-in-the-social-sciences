{
 "cells": [
  {
   "cell_type": "markdown",
   "metadata": {},
   "source": [
    "# Importing Data to a DataFrame"
   ]
  },
  {
   "cell_type": "code",
   "execution_count": 1,
   "metadata": {},
   "outputs": [
    {
     "name": "stdout",
     "output_type": "stream",
     "text": [
      "ooops I did it again.\n"
     ]
    }
   ],
   "source": [
    "import os \n",
    "filein = open(\"..{0}Data{0}test.txt\".format(os.sep))\n",
    "print(filein.read())"
   ]
  },
  {
   "cell_type": "code",
   "execution_count": 3,
   "metadata": {},
   "outputs": [
    {
     "name": "stdout",
     "output_type": "stream",
     "text": [
      "If you are on windows then your files are not in the right folder\n",
      "If you are on Mac or Linux, then disregard.\n",
      "ooops I did it again.\n"
     ]
    }
   ],
   "source": [
    "# Testing for your own operating system:\n",
    "# Which will work? \n",
    "\n",
    "try: \n",
    "    filein = open(\"..\\Data\\test.txt\")\n",
    "    print(filein.read())\n",
    "except FileNotFoundError:\n",
    "    print(\"If you are on windows then your files are not in the right folder\")\n",
    "    print(\"If you are on Mac or Linux, then disregard.\")\n",
    "    \n",
    "try: \n",
    "    filein = open(\"../Data/test.txt\")\n",
    "    print(filein.read())\n",
    "except FileNotFoundError:\n",
    "    print(\"If you are on Mac or Linux then your files are not in the right folder\")\n",
    "    print(\"If you are on Windows, then disregard.\")"
   ]
  },
  {
   "cell_type": "markdown",
   "metadata": {},
   "source": [
    "# JSON - JavaScript Object Notation"
   ]
  },
  {
   "cell_type": "code",
   "execution_count": 6,
   "metadata": {},
   "outputs": [
    {
     "name": "stdout",
     "output_type": "stream",
     "text": [
      "<class 'dict'>\n",
      "dict_keys(['links', 'data'])\n",
      "<class 'list'>\n",
      "100\n",
      "dict_keys(['id', 'airedSeason', 'airedSeasonID', 'airedEpisodeNumber', 'episodeName', 'firstAired', 'guestStars', 'director', 'directors', 'writers', 'overview', 'language', 'productionCode', 'showUrl', 'lastUpdated', 'dvdDiscid', 'dvdSeason', 'dvdEpisodeNumber', 'dvdChapter', 'absoluteNumber', 'filename', 'seriesId', 'lastUpdatedBy', 'airsAfterSeason', 'airsBeforeSeason', 'airsBeforeEpisode', 'thumbAuthor', 'thumbAdded', 'thumbWidth', 'thumbHeight', 'imdbId', 'siteRating', 'siteRatingCount'])\n"
     ]
    }
   ],
   "source": [
    "import json \n",
    "import os \n",
    "\n",
    "filein = json.loads(open(\"..{}Data{}muppetEpisodes.json\".format(os.sep,os.sep)).read())\n",
    "\n",
    "print(type(filein)) # This shows it is a dictionary, so let's ask for keys. \n",
    "      \n",
    "print(filein.keys()) # Perhaps we want to explore the 'data' key. \n",
    "\n",
    "print(type(filein['data'])) # It would appear 'data' is a list. \n",
    "\n",
    "print(len(filein['data'])) # This list has 100 entries. \n",
    "\n",
    "print(filein['data'][0].keys()) # Inspect the keys - these will go in our table."
   ]
  },
  {
   "cell_type": "code",
   "execution_count": 7,
   "metadata": {},
   "outputs": [
    {
     "name": "stdout",
     "output_type": "stream",
     "text": [
      "{'id': 87055, 'airedSeason': 1, 'airedSeasonID': 4221, 'airedEpisodeNumber': 24, 'episodeName': 'Juliet Prowse', 'firstAired': '1977-04-25', 'guestStars': ['Juliet Prowse'], 'director': '', 'directors': [], 'writers': [], 'overview': 'While The Muppet Show had two specials that aired on ABC as pilots, The Muppets Valentine Show and The Muppet Show: Sex & Violence, this debut episode and the subsequent Connie Stevens show were shot before the rest as pilots as well. \\r\\n\\r\\nAccording to Jerry Juhl, a lot of these two episodes were reshot or reworked. Though not as anarchic as the show would eventually become, it nonetheless stands out as a strong pilot episode. Having the show done in a theater (as opposed to a random assortment of sketches) added a sense of unity. Kermit, a well established character, makes a stronger host than Wally or Nigel. Let\\'s see one of them get kissed twice in 25 minutes!\\r\\n\\r\\nMuch of the cast either came from one of the two pilots or previous Muppet productions, but the major supporting characters, Fozzie, Scooter, and Miss Piggy were brand new (although it could be argued a prototype Piggy appeared in Sex & Violence or even a 1974 Herb Albert Show appearance). Throughout the year, more new characters would be created as well as expanding the cast with more older characters from various specials.\\r\\n\\r\\nAlthough most major characters had a continual puppeteer, there was a lot of character switching in the first season. Many background characters and monsters would have a different performer/voice each appearance. Jerry Nelson, who played Statler in Sex & Violence (and Waldorf in the Muppet Meeting Films) reportedly did Statler a few times, Mildred would have at least three performers (who all did a good job trying to use the same voice), and Miss Piggy was initially traded off between Richard Hunt and Frank Oz, often in the same episode.\\r\\n\\r\\nIndeed, in this episode, she\\'s first played by Richard Hunt in \"At the Dance\" then in \"Temptation\", the infamous scene where she goes from chorus girl to star, she\\'s voiced by Frank Oz speaking and Richard Hunt singing!! It\\'s possible that Oz\\'s voice could have been dubbed later but more likely, Frank is physically performing Piggy and the song was prerecorded with Richard\\'s vocals.\\r\\n\\r\\nIt\\'s interesting to note how Piggy may have sounded had Hunt ended up performing her regularly instead of Oz. While Richard is known for his vocal talents, Oz was initially scared of doing voices and not as strong a singer as Hunt, Jerry Nelson, and John Lovelady. Yet, later in the season, Frank would stretch his ability surprising everyone, including himself, as he started doing some Piggy singing. Also note Piggy does not wear long evening gloves.\\r\\n\\r\\nThe pig with brown hair in the closing number is a rebuilt Dr. Nauga from \"Sex & Violence\". This pig would be seen frequently throughout season 1. Next year it will be transformed yet again into the Dr. Nauga-inspired Dr. Julius Strangepork.\\r\\n\\r\\nThe \"Temptation\" number is really the high point of the episode - even aside from its significance as Miss Piggy\\'s launching. Before the song even begins, the whole routine of Kermit trying to conduct the clueless Glee Club is hysterically funny and becomes wilder when the song begins - Piggy\\'s a joy to watch even when she\\'s still in the chorus. Keep your eye on Piggy when she sings, \"Here is my heart\" and thrusts her chest into Kermit\\'s face...and Kermit\\'s priceless reaction!\\r\\n\\r\\nMildred and George, not having been romantically linked in their previous appearances, would end up as dancing partners in almost each installment of At The Dance this year. Each week, Frank Oz attempts to upstage the other performers with Mildred/George\\'s dancing which gets wilder each week. Interestingly enough, in England around this time, there was a sitcom called \"George & Mildred\" which was a spin-off of \"Man About the House\", the show that the American \"Three\\'s Company\" was based on. (\"George & Mildred\" would have been the British equivalent of \"The Ropers\".)\\r\\n\\r\\nStandup comedian Fozzie Bear was originally planned to be the \"second banana\". Even though he\\'s on stage in other songs and sketches, he doesn\\'t actually do any monologues (aside from his opening theme jokes) in the aired versions of the first two episodes. (However, Fozzie\\'s comedy act is the very first act in the original unaired version of this episode).\\r\\n\\r\\nJerry Nelson, one of the veteran Muppeteers at this point, was not involved with a lot of the season\\'s earliest episodes but would become a regular performer in the latter half of the season. Muppet fans may also have been surprised that the cast does not include Fran Brill, who was the main female puppeteer with the Muppets at the time, having performed in \"Sesame Street\", \"Saturday Night Live\", Muppet Meeting Films, and the \"Sex and Violence pilot\". She would eventually do a couple episodes this season only. Eren Ozker would be the main female presence on the show, but did not return for season two in order to return to the States and start her family.\\r\\n\\r\\nFor the purposes of this episode guide the purple monster that appears in the Western Sketch will be referred to as \"Miss Kitty\" since this is the only time where any name was given to the character.', 'language': {'episodeName': 'en', 'overview': 'en'}, 'productionCode': '', 'showUrl': '', 'lastUpdated': 1295228317, 'dvdDiscid': '', 'dvdSeason': 1, 'dvdEpisodeNumber': 1, 'dvdChapter': None, 'absoluteNumber': 1, 'filename': 'episodes/72476/87055.jpg', 'seriesId': 72476, 'lastUpdatedBy': 26561, 'airsAfterSeason': None, 'airsBeforeSeason': None, 'airsBeforeEpisode': None, 'thumbAuthor': 3549, 'thumbAdded': '', 'thumbWidth': '400', 'thumbHeight': '300', 'imdbId': 'tt0653126', 'siteRating': 8, 'siteRatingCount': 1}\n"
     ]
    }
   ],
   "source": [
    "print(filein['data'][0]) # Let's view the first entry. It's very long with a summary and other details."
   ]
  },
  {
   "cell_type": "code",
   "execution_count": 9,
   "metadata": {},
   "outputs": [],
   "source": [
    "from pandas.io.json import json_normalize\n",
    "\n",
    "muppetjson = json.loads(open(\"..{0}Data{0}muppetEpisodes.json\".format(os.sep)).read())\n",
    "muppetdf = json_normalize(muppetjson[\"data\"])"
   ]
  },
  {
   "cell_type": "code",
   "execution_count": 11,
   "metadata": {},
   "outputs": [
    {
     "name": "stdout",
     "output_type": "stream",
     "text": [
      "0 absoluteNumber\n",
      "1 airedEpisodeNumber\n",
      "2 airedSeason\n",
      "3 airedSeasonID\n",
      "4 airsAfterSeason\n",
      "5 airsBeforeEpisode\n",
      "6 airsBeforeSeason\n",
      "7 director\n",
      "8 directors\n",
      "9 dvdChapter\n",
      "10 dvdDiscid\n",
      "11 dvdEpisodeNumber\n",
      "12 dvdSeason\n",
      "13 episodeName\n",
      "14 filename\n",
      "15 firstAired\n",
      "16 guestStars\n",
      "17 id\n",
      "18 imdbId\n",
      "19 language.episodeName\n",
      "20 language.overview\n",
      "21 lastUpdated\n",
      "22 lastUpdatedBy\n",
      "23 overview\n",
      "24 productionCode\n",
      "25 seriesId\n",
      "26 showUrl\n",
      "27 siteRating\n",
      "28 siteRatingCount\n",
      "29 thumbAdded\n",
      "30 thumbAuthor\n",
      "31 thumbHeight\n",
      "32 thumbWidth\n",
      "33 writers\n"
     ]
    }
   ],
   "source": [
    "for c,i in enumerate(muppetdf.columns):\n",
    "    print(c,i)"
   ]
  },
  {
   "cell_type": "code",
   "execution_count": 12,
   "metadata": {},
   "outputs": [
    {
     "data": {
      "text/html": [
       "<div>\n",
       "<style scoped>\n",
       "    .dataframe tbody tr th:only-of-type {\n",
       "        vertical-align: middle;\n",
       "    }\n",
       "\n",
       "    .dataframe tbody tr th {\n",
       "        vertical-align: top;\n",
       "    }\n",
       "\n",
       "    .dataframe thead th {\n",
       "        text-align: right;\n",
       "    }\n",
       "</style>\n",
       "<table border=\"1\" class=\"dataframe\">\n",
       "  <thead>\n",
       "    <tr style=\"text-align: right;\">\n",
       "      <th></th>\n",
       "      <th>director</th>\n",
       "      <th>episodeName</th>\n",
       "      <th>siteRating</th>\n",
       "    </tr>\n",
       "  </thead>\n",
       "  <tbody>\n",
       "    <tr>\n",
       "      <th>0</th>\n",
       "      <td></td>\n",
       "      <td>Juliet Prowse</td>\n",
       "      <td>8.0</td>\n",
       "    </tr>\n",
       "    <tr>\n",
       "      <th>1</th>\n",
       "      <td></td>\n",
       "      <td>Connie Stevens</td>\n",
       "      <td>7.0</td>\n",
       "    </tr>\n",
       "    <tr>\n",
       "      <th>2</th>\n",
       "      <td></td>\n",
       "      <td>Joel Grey</td>\n",
       "      <td>6.8</td>\n",
       "    </tr>\n",
       "    <tr>\n",
       "      <th>3</th>\n",
       "      <td></td>\n",
       "      <td>Ruth Buzzi</td>\n",
       "      <td>7.7</td>\n",
       "    </tr>\n",
       "    <tr>\n",
       "      <th>4</th>\n",
       "      <td></td>\n",
       "      <td>Rita Moreno</td>\n",
       "      <td>6.6</td>\n",
       "    </tr>\n",
       "  </tbody>\n",
       "</table>\n",
       "</div>"
      ],
      "text/plain": [
       "  director     episodeName  siteRating\n",
       "0            Juliet Prowse         8.0\n",
       "1           Connie Stevens         7.0\n",
       "2                Joel Grey         6.8\n",
       "3               Ruth Buzzi         7.7\n",
       "4              Rita Moreno         6.6"
      ]
     },
     "metadata": {},
     "output_type": "display_data"
    }
   ],
   "source": [
    "display(muppetdf.iloc[:,[7,13,27]].head())"
   ]
  },
  {
   "cell_type": "markdown",
   "metadata": {},
   "source": [
    "# Markup languages: HTML and XML"
   ]
  },
  {
   "cell_type": "code",
   "execution_count": 13,
   "metadata": {},
   "outputs": [
    {
     "name": "stdout",
     "output_type": "stream",
     "text": [
      "940053\n"
     ]
    }
   ],
   "source": [
    "import bs4,os\n",
    "\n",
    "wikiHTML = open(\"..{0}Data{0}Canada_Wiki.html\".format(os.sep),'r').read()\n",
    "print(len(wikiHTML))"
   ]
  },
  {
   "cell_type": "code",
   "execution_count": 14,
   "metadata": {},
   "outputs": [
    {
     "name": "stdout",
     "output_type": "stream",
     "text": [
      "<!DOCTYPE html>\n",
      "<html class=\"client-nojs\" lang=\"en\" dir=\"ltr\">\n",
      "<head>\n",
      "<meta charset=\"UTF-8\"/>\n",
      "<title>Canada - Wikipedia</title>\n",
      "<script>document.documentElement.className=document.documentElement.clas\n"
     ]
    }
   ],
   "source": [
    "print(wikiHTML[:200])"
   ]
  },
  {
   "cell_type": "markdown",
   "metadata": {},
   "source": [
    "# Using BeautifulSoup"
   ]
  },
  {
   "cell_type": "code",
   "execution_count": 15,
   "metadata": {},
   "outputs": [
    {
     "name": "stdout",
     "output_type": "stream",
     "text": [
      "Canada - Wikipedia\n",
      "3920\n"
     ]
    }
   ],
   "source": [
    "# Step 1. Make the soup \n",
    "soup = bs4.BeautifulSoup(wikiHTML, 'html.parser')\n",
    "\n",
    "# Query the soup\n",
    "print(soup.title.text)\n",
    "links = soup.find_all(\"a\")\n",
    "print(len(links))"
   ]
  },
  {
   "cell_type": "code",
   "execution_count": 16,
   "metadata": {},
   "outputs": [
    {
     "name": "stdout",
     "output_type": "stream",
     "text": [
      "<a id=\"top\"></a>\n",
      "<a class=\"mw-selflink selflink\">Canada</a>\n",
      "<a class=\"mw-selflink selflink\">Canada</a>\n",
      "<a class=\"mw-selflink selflink\">Canada</a>\n",
      "919 2997\n"
     ]
    }
   ],
   "source": [
    "urls = []\n",
    "internal_links = []\n",
    "\n",
    "for souplink in soup.find_all('a'):\n",
    "    link = souplink.get('href')\n",
    "    if link: # That means the link is a hypertext reference and not a section heading\n",
    "        if 'http' in link:\n",
    "            urls.append(link)\n",
    "        else:\n",
    "            internal_links.append(link) \n",
    "    else:\n",
    "        print(souplink)\n",
    "\n",
    "print(len(urls),len(internal_links))"
   ]
  },
  {
   "cell_type": "code",
   "execution_count": 17,
   "metadata": {},
   "outputs": [
    {
     "name": "stdout",
     "output_type": "stream",
     "text": [
      "/wiki/Wikipedia:Featured_articles\n",
      "/wiki/Wikipedia:Protection_policy#semi\n",
      "/wiki/File:En-Canada.ogg\n",
      "#mw-head\n",
      "#p-search\n",
      "/wiki/Canada_(disambiguation)\n",
      "/wiki/Geographic_coordinate_system\n",
      "//tools.wmflabs.org/geohack/geohack.php?pagename=Canada&params=60_N_95_W_\n",
      "/wiki/File:Flag_of_Canada_(Pantone).svg\n",
      "/wiki/Flag_of_Canada\n"
     ]
    }
   ],
   "source": [
    "for i in internal_links[:10]: print(i)"
   ]
  },
  {
   "cell_type": "code",
   "execution_count": 19,
   "metadata": {},
   "outputs": [
    {
     "name": "stdout",
     "output_type": "stream",
     "text": [
      "There are 2997 internal links on this page, 2355 of which are unique, and 2035 of which are to other wiki pages\n"
     ]
    }
   ],
   "source": [
    "import pandas as pd \n",
    "\n",
    "wikiLinks = pd.DataFrame(internal_links,columns=[\"internal_links\"])\n",
    "\n",
    "def get_wiki(text):\n",
    "    if text[:5] == \"/wiki\": return True\n",
    "    else: return False\n",
    "    \n",
    "wikiLinks[\"wiki\"] = wikiLinks[\"internal_links\"].map(lambda x: get_wiki(x))\n",
    "wikiLinks.head(10)\n",
    "\n",
    "print(\"There are {} internal links on this page, {} of which are unique, and {} of which are to other wiki pages\".format( \n",
    "        len(wikiLinks[\"internal_links\"]), \n",
    "        len(wikiLinks[\"internal_links\"].unique() ),\n",
    "        len(wikiLinks[wikiLinks[\"wiki\"]]) #Notice here I sliced to only \"wiki\" == True.\n",
    "        ))"
   ]
  },
  {
   "cell_type": "code",
   "execution_count": 21,
   "metadata": {},
   "outputs": [
    {
     "name": "stdout",
     "output_type": "stream",
     "text": [
      "1\n"
     ]
    },
    {
     "data": {
      "text/html": [
       "<div>\n",
       "<style scoped>\n",
       "    .dataframe tbody tr th:only-of-type {\n",
       "        vertical-align: middle;\n",
       "    }\n",
       "\n",
       "    .dataframe tbody tr th {\n",
       "        vertical-align: top;\n",
       "    }\n",
       "\n",
       "    .dataframe thead th {\n",
       "        text-align: right;\n",
       "    }\n",
       "</style>\n",
       "<table border=\"1\" class=\"dataframe\">\n",
       "  <thead>\n",
       "    <tr style=\"text-align: right;\">\n",
       "      <th></th>\n",
       "      <th>Canada</th>\n",
       "      <th>Canada.1</th>\n",
       "    </tr>\n",
       "  </thead>\n",
       "  <tbody>\n",
       "    <tr>\n",
       "      <th>0</th>\n",
       "      <td>Flag  Coat of arms</td>\n",
       "      <td>Flag  Coat of arms</td>\n",
       "    </tr>\n",
       "    <tr>\n",
       "      <th>1</th>\n",
       "      <td>Motto: A Mari Usque Ad Mare (Latin)\"From Sea t...</td>\n",
       "      <td>Motto: A Mari Usque Ad Mare (Latin)\"From Sea t...</td>\n",
       "    </tr>\n",
       "    <tr>\n",
       "      <th>2</th>\n",
       "      <td>Anthem: \"O Canada\"[a]</td>\n",
       "      <td>Anthem: \"O Canada\"[a]</td>\n",
       "    </tr>\n",
       "    <tr>\n",
       "      <th>3</th>\n",
       "      <td>NaN</td>\n",
       "      <td>NaN</td>\n",
       "    </tr>\n",
       "    <tr>\n",
       "      <th>4</th>\n",
       "      <td>Capital</td>\n",
       "      <td>Ottawa45°24′N 75°40′W﻿ / ﻿45.400°N 75.667°W</td>\n",
       "    </tr>\n",
       "  </tbody>\n",
       "</table>\n",
       "</div>"
      ],
      "text/plain": [
       "                                              Canada  \\\n",
       "0                                 Flag  Coat of arms   \n",
       "1  Motto: A Mari Usque Ad Mare (Latin)\"From Sea t...   \n",
       "2                              Anthem: \"O Canada\"[a]   \n",
       "3                                                NaN   \n",
       "4                                            Capital   \n",
       "\n",
       "                                            Canada.1  \n",
       "0                                 Flag  Coat of arms  \n",
       "1  Motto: A Mari Usque Ad Mare (Latin)\"From Sea t...  \n",
       "2                              Anthem: \"O Canada\"[a]  \n",
       "3                                                NaN  \n",
       "4        Ottawa45°24′N 75°40′W﻿ / ﻿45.400°N 75.667°W  "
      ]
     },
     "metadata": {},
     "output_type": "display_data"
    }
   ],
   "source": [
    "soup = bs4.BeautifulSoup(wikiHTML,'lxml') #res.content\n",
    "tables = soup.find_all('table')[0] \n",
    "parsed_tables = pd.read_html(str(tables)) # This will return a list of DataFrames, one for each table detected.\n",
    "print(len(parsed_tables)) # This will show us there is only one table detected. \n",
    "display(parsed_tables[0].head())"
   ]
  },
  {
   "cell_type": "markdown",
   "metadata": {},
   "source": [
    "# XML "
   ]
  },
  {
   "cell_type": "code",
   "execution_count": 22,
   "metadata": {},
   "outputs": [
    {
     "name": "stdout",
     "output_type": "stream",
     "text": [
      "<id>864119742</id>\n"
     ]
    }
   ],
   "source": [
    "# loading some xml\n",
    "import bs4, os\n",
    "\n",
    "infile = open(\"..{0}Data{0}Canada.xml\".format(os.sep),'r')\n",
    "\n",
    "wikitext = infile.read()\n",
    "\n",
    "# Note: In some circumstances, the file is saved as encoded data, in which case\n",
    "# use the .decode('utf-8') function on the text. As in:\n",
    "# soup = bs4.BeautifulSoup(wikitext.decode('utf8'), \"lxml\")\n",
    "soup = bs4.BeautifulSoup(wikitext, \"lxml\")\n",
    "\n",
    "print (soup.mediawiki.page.revision.id )"
   ]
  },
  {
   "cell_type": "code",
   "execution_count": 24,
   "metadata": {},
   "outputs": [
    {
     "name": "stdout",
     "output_type": "stream",
     "text": [
      "html\n",
      "\n",
      "~~~~~\n",
      "\n",
      "body\n",
      "\n",
      "~~~~~\n",
      "\n",
      "mediawiki\n",
      "None\n",
      "\n",
      "~~~~~\n",
      "\n",
      "None\n",
      "siteinfo\n",
      "None\n",
      "page\n",
      "None\n",
      "\n",
      "~~~~~\n",
      "\n",
      "None\n",
      "title\n",
      "None\n",
      "ns\n",
      "None\n",
      "id\n",
      "None\n",
      "revision\n",
      "None\n",
      "\n",
      "~~~~~\n",
      "\n",
      "True\n",
      "\n",
      "Canada\n",
      "0\n",
      "5042916\n",
      "\n",
      "864119742\n",
      "864118763\n",
      "2018-10-15T06:33:55Z\n",
      "\n",
      "Moxy\n",
      "8729451\n",
      "\n",
      "/* Government and politic ...\n"
     ]
    }
   ],
   "source": [
    "sep = \"\\n~~~~~\\n\"\n",
    "\n",
    "for i in soup.children: print(i.name)\n",
    "print(sep)\n",
    "for i in soup.html.children: print(i.name)\n",
    "print(sep)\n",
    "for i in soup.html.body.children: print(i.name)\n",
    "print(sep)\n",
    "for i in soup.mediawiki.children: print(i.name) \n",
    "print(sep)\n",
    "for i in soup.mediawiki.page.children: print(i.name)\n",
    "print(sep)\n",
    "# I discover that we can just say soup.page and it will get the text. \n",
    "y = soup.page.text\n",
    "\n",
    "print (soup.page.text == soup.html.body.mediawiki.page.text)\n",
    "print(y[:100],\"...\")"
   ]
  },
  {
   "cell_type": "markdown",
   "metadata": {},
   "source": [
    "# CSV"
   ]
  },
  {
   "cell_type": "code",
   "execution_count": null,
   "metadata": {},
   "outputs": [],
   "source": [
    "import csv \n",
    "\n",
    "1/0\n",
    "with open('data.csv', newline='') as file_to_read:\n",
    "    filereader = csv.reader(file_to_read, delimiter=' ', quotechar='|')\n",
    "    for row in filereader:\n",
    "        print('<>'.join(row))"
   ]
  },
  {
   "cell_type": "code",
   "execution_count": null,
   "metadata": {},
   "outputs": [],
   "source": [
    "import pandas as pd\n",
    "\n",
    "df = pd.read_csv(<path_to_file>) "
   ]
  },
  {
   "cell_type": "code",
   "execution_count": 26,
   "metadata": {},
   "outputs": [
    {
     "name": "stdout",
     "output_type": "stream",
     "text": [
      "Help on function read_csv in module pandas.io.parsers:\n",
      "\n",
      "read_csv(filepath_or_buffer, sep=',', delimiter=None, header='infer', names=None, index_col=None, usecols=None, squeeze=False, prefix=None, mangle_dupe_cols=True, dtype=None, engine=None, converters=None, true_values=None, false_values=None, skipinitialspace=False, skiprows=None, skipfooter=0, nrows=None, na_values=None, keep_default_na=True, na_filter=True, verbose=False, skip_blank_lines=True, parse_dates=False, infer_datetime_format=False, keep_date_col=False, date_parser=None, dayfirst=False, iterator=False, chunksize=None, compression='infer', thousands=None, decimal=b'.', lineterminator=None, quotechar='\"', quoting=0, doublequote=True, escapechar=None, comment=None, encoding=None, dialect=None, tupleize_cols=None, error_bad_lines=True, warn_bad_lines=True, delim_whitespace=False, low_memory=True, memory_map=False, float_precision=None)\n",
      "    Read a comma-separated values (csv) file into DataFrame.\n",
      "    \n",
      "    Also supports optionally iterating or breaking of the file\n",
      "    into chunks.\n",
      "    \n",
      "    Additional help can be found in the online docs for\n",
      "    `IO Tools <http://pandas.pydata.org/pandas-docs/stable/io.html>`_.\n",
      "    \n",
      "    Parameters\n",
      "    ----------\n",
      "    filepath_or_buffer : str, path object, or file-like object\n",
      "        Any valid string path is acceptable. The string could be a URL. Valid\n",
      "        URL schemes include http, ftp, s3, and file. For file URLs, a host is\n",
      "        expected. A local file could be: file://localhost/path/to/table.csv.\n",
      "    \n",
      "        If you want to pass in a path object, pandas accepts either\n",
      "        ``pathlib.Path`` or ``py._path.local.LocalPath``.\n",
      "    \n",
      "        By file-like object, we refer to objects with a ``read()`` method, such as\n",
      "        a file handler (e.g. via builtin ``open`` function) or ``StringIO``.\n",
      "    sep : str, default ','\n",
      "        Delimiter to use. If sep is None, the C engine cannot automatically detect\n",
      "        the separator, but the Python parsing engine can, meaning the latter will\n",
      "        be used and automatically detect the separator by Python's builtin sniffer\n",
      "        tool, ``csv.Sniffer``. In addition, separators longer than 1 character and\n",
      "        different from ``'\\s+'`` will be interpreted as regular expressions and\n",
      "        will also force the use of the Python parsing engine. Note that regex\n",
      "        delimiters are prone to ignoring quoted data. Regex example: ``'\\r\\t'``.\n",
      "    delimiter : str, default ``None``\n",
      "        Alias for sep.\n",
      "    header : int, list of int, default 'infer'\n",
      "        Row number(s) to use as the column names, and the start of the\n",
      "        data.  Default behavior is to infer the column names: if no names\n",
      "        are passed the behavior is identical to ``header=0`` and column\n",
      "        names are inferred from the first line of the file, if column\n",
      "        names are passed explicitly then the behavior is identical to\n",
      "        ``header=None``. Explicitly pass ``header=0`` to be able to\n",
      "        replace existing names. The header can be a list of integers that\n",
      "        specify row locations for a multi-index on the columns\n",
      "        e.g. [0,1,3]. Intervening rows that are not specified will be\n",
      "        skipped (e.g. 2 in this example is skipped). Note that this\n",
      "        parameter ignores commented lines and empty lines if\n",
      "        ``skip_blank_lines=True``, so ``header=0`` denotes the first line of\n",
      "        data rather than the first line of the file.\n",
      "    names : array-like, optional\n",
      "        List of column names to use. If file contains no header row, then you\n",
      "        should explicitly pass ``header=None``. Duplicates in this list will cause\n",
      "        a ``UserWarning`` to be issued.\n",
      "    index_col : int, sequence or bool, optional\n",
      "        Column to use as the row labels of the DataFrame. If a sequence is given, a\n",
      "        MultiIndex is used. If you have a malformed file with delimiters at the end\n",
      "        of each line, you might consider ``index_col=False`` to force pandas to\n",
      "        not use the first column as the index (row names).\n",
      "    usecols : list-like or callable, optional\n",
      "        Return a subset of the columns. If list-like, all elements must either\n",
      "        be positional (i.e. integer indices into the document columns) or strings\n",
      "        that correspond to column names provided either by the user in `names` or\n",
      "        inferred from the document header row(s). For example, a valid list-like\n",
      "        `usecols` parameter would be ``[0, 1, 2]`` or ``['foo', 'bar', 'baz']``.\n",
      "        Element order is ignored, so ``usecols=[0, 1]`` is the same as ``[1, 0]``.\n",
      "        To instantiate a DataFrame from ``data`` with element order preserved use\n",
      "        ``pd.read_csv(data, usecols=['foo', 'bar'])[['foo', 'bar']]`` for columns\n",
      "        in ``['foo', 'bar']`` order or\n",
      "        ``pd.read_csv(data, usecols=['foo', 'bar'])[['bar', 'foo']]``\n",
      "        for ``['bar', 'foo']`` order.\n",
      "    \n",
      "        If callable, the callable function will be evaluated against the column\n",
      "        names, returning names where the callable function evaluates to True. An\n",
      "        example of a valid callable argument would be ``lambda x: x.upper() in\n",
      "        ['AAA', 'BBB', 'DDD']``. Using this parameter results in much faster\n",
      "        parsing time and lower memory usage.\n",
      "    squeeze : bool, default False\n",
      "        If the parsed data only contains one column then return a Series.\n",
      "    prefix : str, optional\n",
      "        Prefix to add to column numbers when no header, e.g. 'X' for X0, X1, ...\n",
      "    mangle_dupe_cols : bool, default True\n",
      "        Duplicate columns will be specified as 'X', 'X.1', ...'X.N', rather than\n",
      "        'X'...'X'. Passing in False will cause data to be overwritten if there\n",
      "        are duplicate names in the columns.\n",
      "    dtype : Type name or dict of column -> type, optional\n",
      "        Data type for data or columns. E.g. {'a': np.float64, 'b': np.int32,\n",
      "        'c': 'Int64'}\n",
      "        Use `str` or `object` together with suitable `na_values` settings\n",
      "        to preserve and not interpret dtype.\n",
      "        If converters are specified, they will be applied INSTEAD\n",
      "        of dtype conversion.\n",
      "    engine : {'c', 'python'}, optional\n",
      "        Parser engine to use. The C engine is faster while the python engine is\n",
      "        currently more feature-complete.\n",
      "    converters : dict, optional\n",
      "        Dict of functions for converting values in certain columns. Keys can either\n",
      "        be integers or column labels.\n",
      "    true_values : list, optional\n",
      "        Values to consider as True.\n",
      "    false_values : list, optional\n",
      "        Values to consider as False.\n",
      "    skipinitialspace : bool, default False\n",
      "        Skip spaces after delimiter.\n",
      "    skiprows : list-like, int or callable, optional\n",
      "        Line numbers to skip (0-indexed) or number of lines to skip (int)\n",
      "        at the start of the file.\n",
      "    \n",
      "        If callable, the callable function will be evaluated against the row\n",
      "        indices, returning True if the row should be skipped and False otherwise.\n",
      "        An example of a valid callable argument would be ``lambda x: x in [0, 2]``.\n",
      "    skipfooter : int, default 0\n",
      "        Number of lines at bottom of file to skip (Unsupported with engine='c').\n",
      "    nrows : int, optional\n",
      "        Number of rows of file to read. Useful for reading pieces of large files.\n",
      "    na_values : scalar, str, list-like, or dict, optional\n",
      "        Additional strings to recognize as NA/NaN. If dict passed, specific\n",
      "        per-column NA values.  By default the following values are interpreted as\n",
      "        NaN: '', '#N/A', '#N/A N/A', '#NA', '-1.#IND', '-1.#QNAN', '-NaN', '-nan',\n",
      "        '1.#IND', '1.#QNAN', 'N/A', 'NA', 'NULL', 'NaN', 'n/a', 'nan',\n",
      "        'null'.\n",
      "    keep_default_na : bool, default True\n",
      "        Whether or not to include the default NaN values when parsing the data.\n",
      "        Depending on whether `na_values` is passed in, the behavior is as follows:\n",
      "    \n",
      "        * If `keep_default_na` is True, and `na_values` are specified, `na_values`\n",
      "          is appended to the default NaN values used for parsing.\n",
      "        * If `keep_default_na` is True, and `na_values` are not specified, only\n",
      "          the default NaN values are used for parsing.\n",
      "        * If `keep_default_na` is False, and `na_values` are specified, only\n",
      "          the NaN values specified `na_values` are used for parsing.\n",
      "        * If `keep_default_na` is False, and `na_values` are not specified, no\n",
      "          strings will be parsed as NaN.\n",
      "    \n",
      "        Note that if `na_filter` is passed in as False, the `keep_default_na` and\n",
      "        `na_values` parameters will be ignored.\n",
      "    na_filter : bool, default True\n",
      "        Detect missing value markers (empty strings and the value of na_values). In\n",
      "        data without any NAs, passing na_filter=False can improve the performance\n",
      "        of reading a large file.\n",
      "    verbose : bool, default False\n",
      "        Indicate number of NA values placed in non-numeric columns.\n",
      "    skip_blank_lines : bool, default True\n",
      "        If True, skip over blank lines rather than interpreting as NaN values.\n",
      "    parse_dates : bool or list of int or names or list of lists or dict, default False\n",
      "        The behavior is as follows:\n",
      "    \n",
      "        * boolean. If True -> try parsing the index.\n",
      "        * list of int or names. e.g. If [1, 2, 3] -> try parsing columns 1, 2, 3\n",
      "          each as a separate date column.\n",
      "        * list of lists. e.g.  If [[1, 3]] -> combine columns 1 and 3 and parse as\n",
      "          a single date column.\n",
      "        * dict, e.g. {'foo' : [1, 3]} -> parse columns 1, 3 as date and call\n",
      "          result 'foo'\n",
      "    \n",
      "        If a column or index cannot be represented as an array of datetimes,\n",
      "        say because of an unparseable value or a mixture of timezones, the column\n",
      "        or index will be returned unaltered as an object data type. For\n",
      "        non-standard datetime parsing, use ``pd.to_datetime`` after\n",
      "        ``pd.read_csv``. To parse an index or column with a mixture of timezones,\n",
      "        specify ``date_parser`` to be a partially-applied\n",
      "        :func:`pandas.to_datetime` with ``utc=True``. See\n",
      "        :ref:`io.csv.mixed_timezones` for more.\n",
      "    \n",
      "        Note: A fast-path exists for iso8601-formatted dates.\n",
      "    infer_datetime_format : bool, default False\n",
      "        If True and `parse_dates` is enabled, pandas will attempt to infer the\n",
      "        format of the datetime strings in the columns, and if it can be inferred,\n",
      "        switch to a faster method of parsing them. In some cases this can increase\n",
      "        the parsing speed by 5-10x.\n",
      "    keep_date_col : bool, default False\n",
      "        If True and `parse_dates` specifies combining multiple columns then\n",
      "        keep the original columns.\n",
      "    date_parser : function, optional\n",
      "        Function to use for converting a sequence of string columns to an array of\n",
      "        datetime instances. The default uses ``dateutil.parser.parser`` to do the\n",
      "        conversion. Pandas will try to call `date_parser` in three different ways,\n",
      "        advancing to the next if an exception occurs: 1) Pass one or more arrays\n",
      "        (as defined by `parse_dates`) as arguments; 2) concatenate (row-wise) the\n",
      "        string values from the columns defined by `parse_dates` into a single array\n",
      "        and pass that; and 3) call `date_parser` once for each row using one or\n",
      "        more strings (corresponding to the columns defined by `parse_dates`) as\n",
      "        arguments.\n",
      "    dayfirst : bool, default False\n",
      "        DD/MM format dates, international and European format.\n",
      "    iterator : bool, default False\n",
      "        Return TextFileReader object for iteration or getting chunks with\n",
      "        ``get_chunk()``.\n",
      "    chunksize : int, optional\n",
      "        Return TextFileReader object for iteration.\n",
      "        See the `IO Tools docs\n",
      "        <http://pandas.pydata.org/pandas-docs/stable/io.html#io-chunking>`_\n",
      "        for more information on ``iterator`` and ``chunksize``.\n",
      "    compression : {'infer', 'gzip', 'bz2', 'zip', 'xz', None}, default 'infer'\n",
      "        For on-the-fly decompression of on-disk data. If 'infer' and\n",
      "        `filepath_or_buffer` is path-like, then detect compression from the\n",
      "        following extensions: '.gz', '.bz2', '.zip', or '.xz' (otherwise no\n",
      "        decompression). If using 'zip', the ZIP file must contain only one data\n",
      "        file to be read in. Set to None for no decompression.\n",
      "    \n",
      "        .. versionadded:: 0.18.1 support for 'zip' and 'xz' compression.\n",
      "    \n",
      "    thousands : str, optional\n",
      "        Thousands separator.\n",
      "    decimal : str, default '.'\n",
      "        Character to recognize as decimal point (e.g. use ',' for European data).\n",
      "    lineterminator : str (length 1), optional\n",
      "        Character to break file into lines. Only valid with C parser.\n",
      "    quotechar : str (length 1), optional\n",
      "        The character used to denote the start and end of a quoted item. Quoted\n",
      "        items can include the delimiter and it will be ignored.\n",
      "    quoting : int or csv.QUOTE_* instance, default 0\n",
      "        Control field quoting behavior per ``csv.QUOTE_*`` constants. Use one of\n",
      "        QUOTE_MINIMAL (0), QUOTE_ALL (1), QUOTE_NONNUMERIC (2) or QUOTE_NONE (3).\n",
      "    doublequote : bool, default ``True``\n",
      "       When quotechar is specified and quoting is not ``QUOTE_NONE``, indicate\n",
      "       whether or not to interpret two consecutive quotechar elements INSIDE a\n",
      "       field as a single ``quotechar`` element.\n",
      "    escapechar : str (length 1), optional\n",
      "        One-character string used to escape other characters.\n",
      "    comment : str, optional\n",
      "        Indicates remainder of line should not be parsed. If found at the beginning\n",
      "        of a line, the line will be ignored altogether. This parameter must be a\n",
      "        single character. Like empty lines (as long as ``skip_blank_lines=True``),\n",
      "        fully commented lines are ignored by the parameter `header` but not by\n",
      "        `skiprows`. For example, if ``comment='#'``, parsing\n",
      "        ``#empty\\na,b,c\\n1,2,3`` with ``header=0`` will result in 'a,b,c' being\n",
      "        treated as the header.\n",
      "    encoding : str, optional\n",
      "        Encoding to use for UTF when reading/writing (ex. 'utf-8'). `List of Python\n",
      "        standard encodings\n",
      "        <https://docs.python.org/3/library/codecs.html#standard-encodings>`_ .\n",
      "    dialect : str or csv.Dialect, optional\n",
      "        If provided, this parameter will override values (default or not) for the\n",
      "        following parameters: `delimiter`, `doublequote`, `escapechar`,\n",
      "        `skipinitialspace`, `quotechar`, and `quoting`. If it is necessary to\n",
      "        override values, a ParserWarning will be issued. See csv.Dialect\n",
      "        documentation for more details.\n",
      "    tupleize_cols : bool, default False\n",
      "        Leave a list of tuples on columns as is (default is to convert to\n",
      "        a MultiIndex on the columns).\n",
      "    \n",
      "        .. deprecated:: 0.21.0\n",
      "           This argument will be removed and will always convert to MultiIndex\n",
      "    \n",
      "    error_bad_lines : bool, default True\n",
      "        Lines with too many fields (e.g. a csv line with too many commas) will by\n",
      "        default cause an exception to be raised, and no DataFrame will be returned.\n",
      "        If False, then these \"bad lines\" will dropped from the DataFrame that is\n",
      "        returned.\n",
      "    warn_bad_lines : bool, default True\n",
      "        If error_bad_lines is False, and warn_bad_lines is True, a warning for each\n",
      "        \"bad line\" will be output.\n",
      "    delim_whitespace : bool, default False\n",
      "        Specifies whether or not whitespace (e.g. ``' '`` or ``'    '``) will be\n",
      "        used as the sep. Equivalent to setting ``sep='\\s+'``. If this option\n",
      "        is set to True, nothing should be passed in for the ``delimiter``\n",
      "        parameter.\n",
      "    \n",
      "        .. versionadded:: 0.18.1 support for the Python parser.\n",
      "    \n",
      "    low_memory : bool, default True\n",
      "        Internally process the file in chunks, resulting in lower memory use\n",
      "        while parsing, but possibly mixed type inference.  To ensure no mixed\n",
      "        types either set False, or specify the type with the `dtype` parameter.\n",
      "        Note that the entire file is read into a single DataFrame regardless,\n",
      "        use the `chunksize` or `iterator` parameter to return the data in chunks.\n",
      "        (Only valid with C parser).\n",
      "    memory_map : bool, default False\n",
      "        If a filepath is provided for `filepath_or_buffer`, map the file object\n",
      "        directly onto memory and access the data directly from there. Using this\n",
      "        option can improve performance because there is no longer any I/O overhead.\n",
      "    float_precision : str, optional\n",
      "        Specifies which converter the C engine should use for floating-point\n",
      "        values. The options are `None` for the ordinary converter,\n",
      "        `high` for the high-precision converter, and `round_trip` for the\n",
      "        round-trip converter.\n",
      "    \n",
      "    Returns\n",
      "    -------\n",
      "    DataFrame or TextParser\n",
      "        A comma-separated values (csv) file is returned as two-dimensional\n",
      "        data structure with labeled axes.\n",
      "    \n",
      "    See Also\n",
      "    --------\n",
      "    to_csv : Write DataFrame to a comma-separated values (csv) file.\n",
      "    read_csv : Read a comma-separated values (csv) file into DataFrame.\n",
      "    read_fwf : Read a table of fixed-width formatted lines into DataFrame.\n",
      "    \n",
      "    Examples\n",
      "    --------\n",
      "    >>> pd.read_csv('data.csv')  # doctest: +SKIP\n",
      "\n"
     ]
    }
   ],
   "source": [
    "help(pd.read_csv)"
   ]
  },
  {
   "cell_type": "code",
   "execution_count": 27,
   "metadata": {},
   "outputs": [],
   "source": [
    "# Excel"
   ]
  },
  {
   "cell_type": "code",
   "execution_count": 28,
   "metadata": {},
   "outputs": [
    {
     "data": {
      "text/html": [
       "<div>\n",
       "<style scoped>\n",
       "    .dataframe tbody tr th:only-of-type {\n",
       "        vertical-align: middle;\n",
       "    }\n",
       "\n",
       "    .dataframe tbody tr th {\n",
       "        vertical-align: top;\n",
       "    }\n",
       "\n",
       "    .dataframe thead th {\n",
       "        text-align: right;\n",
       "    }\n",
       "</style>\n",
       "<table border=\"1\" class=\"dataframe\">\n",
       "  <thead>\n",
       "    <tr style=\"text-align: right;\">\n",
       "      <th></th>\n",
       "      <th>NameGender</th>\n",
       "      <th>Species</th>\n",
       "      <th>First</th>\n",
       "      <th>Appearance</th>\n",
       "    </tr>\n",
       "  </thead>\n",
       "  <tbody>\n",
       "    <tr>\n",
       "      <th>0</th>\n",
       "      <td>Fozzie</td>\n",
       "      <td>Male</td>\n",
       "      <td>Bear</td>\n",
       "      <td>1976</td>\n",
       "    </tr>\n",
       "    <tr>\n",
       "      <th>1</th>\n",
       "      <td>Kermit</td>\n",
       "      <td>Male</td>\n",
       "      <td>Frog</td>\n",
       "      <td>1955</td>\n",
       "    </tr>\n",
       "    <tr>\n",
       "      <th>2</th>\n",
       "      <td>Piggy</td>\n",
       "      <td>Female</td>\n",
       "      <td>Pig</td>\n",
       "      <td>1974</td>\n",
       "    </tr>\n",
       "    <tr>\n",
       "      <th>3</th>\n",
       "      <td>Gonzo</td>\n",
       "      <td>Male</td>\n",
       "      <td>Unknown</td>\n",
       "      <td>1970</td>\n",
       "    </tr>\n",
       "    <tr>\n",
       "      <th>4</th>\n",
       "      <td>Rowlf</td>\n",
       "      <td>Male</td>\n",
       "      <td>Dog</td>\n",
       "      <td>1962</td>\n",
       "    </tr>\n",
       "    <tr>\n",
       "      <th>5</th>\n",
       "      <td>Beaker</td>\n",
       "      <td>Male</td>\n",
       "      <td>Muppet</td>\n",
       "      <td>1977</td>\n",
       "    </tr>\n",
       "    <tr>\n",
       "      <th>6</th>\n",
       "      <td>Janice</td>\n",
       "      <td>Female</td>\n",
       "      <td>Muppet</td>\n",
       "      <td>1975</td>\n",
       "    </tr>\n",
       "    <tr>\n",
       "      <th>7</th>\n",
       "      <td>Hilda</td>\n",
       "      <td>Female</td>\n",
       "      <td>Muppet</td>\n",
       "      <td>1976</td>\n",
       "    </tr>\n",
       "  </tbody>\n",
       "</table>\n",
       "</div>"
      ],
      "text/plain": [
       "  NameGender Species    First  Appearance\n",
       "0     Fozzie    Male     Bear        1976\n",
       "1     Kermit    Male     Frog        1955\n",
       "2      Piggy  Female      Pig        1974\n",
       "3      Gonzo    Male  Unknown        1970\n",
       "4      Rowlf    Male      Dog        1962\n",
       "5     Beaker    Male   Muppet        1977\n",
       "6     Janice  Female   Muppet        1975\n",
       "7      Hilda  Female   Muppet        1976"
      ]
     },
     "metadata": {},
     "output_type": "display_data"
    }
   ],
   "source": [
    "import pandas as pd, os \n",
    "\n",
    "mt = pd.read_excel(\"..{0}Data{0}MuppetsTable.xlsx\".format(os.sep))\n",
    "display(mt)"
   ]
  },
  {
   "cell_type": "markdown",
   "metadata": {},
   "source": [
    "# Pickling"
   ]
  },
  {
   "cell_type": "code",
   "execution_count": 30,
   "metadata": {},
   "outputs": [
    {
     "name": "stdout",
     "output_type": "stream",
     "text": [
      "['1', '2']\n"
     ]
    }
   ],
   "source": [
    "import pickle\n",
    "\n",
    "x = ['1','2']\n",
    "pickle.dump(x,open(\"temp.txt\",'wb'))\n",
    "y = pickle.load(open(\"temp.txt\",'rb'))\n",
    "print(y)"
   ]
  }
 ],
 "metadata": {
  "kernelspec": {
   "display_name": "Python 3",
   "language": "python",
   "name": "python3"
  },
  "language_info": {
   "codemirror_mode": {
    "name": "ipython",
    "version": 3
   },
   "file_extension": ".py",
   "mimetype": "text/x-python",
   "name": "python",
   "nbconvert_exporter": "python",
   "pygments_lexer": "ipython3",
   "version": "3.7.3"
  }
 },
 "nbformat": 4,
 "nbformat_minor": 4
}
