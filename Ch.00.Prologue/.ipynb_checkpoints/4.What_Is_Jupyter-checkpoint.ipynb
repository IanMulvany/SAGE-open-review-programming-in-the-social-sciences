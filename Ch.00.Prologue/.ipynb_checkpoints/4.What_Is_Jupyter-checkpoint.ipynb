{
 "cells": [
  {
   "cell_type": "markdown",
   "metadata": {},
   "source": [
    "# Working with Anaconda and Jupyter\n",
    "\n",
    "One of the best things about Python is that it now has an entire ecosystem for scientific computing. In this book we will be using the incredible Anaconda package for Python. In this package is not only the Python language and a bunch of useful libraries like many of the ones mentioned above. There are also dedicated software programs that help you develop code. Two in particular stand out: _Spyder_ and _Jupyter_. For those who have used Stata or RStudio, Spyder will be familiar. It's a program for developing Python scripts that are run on data. It has a window for typing commands, viewing output, looking at what data and variables have been assigned, and viewing source code to be run all at once. While I have made use of Spyder for tasks in the past, what really excites me about Python these days is Jupyter. It feels like exactly what I've always wanted; It's like a long Microsoft Word document where the paragraphs can be code that you run right in the document. \n",
    "\n",
    "Jupyter is a browser-based tool for viewing Python code alongside text, figures and results. It's like a _Microsoft Word_ document where paragraphs can be run and results can be inserted directly into the document. There are a number of flavours of Jupyter, but I prefer \"Jupyter Lab\" bundled in the _Anaconda_ python package (xx). \n",
    "\n",
    "As you have probably noticed, programmers tend to enjoy puns and in-jokes. The language Python apparently came from the creator's love of the show 'Monty Python'. Now, despite it being named after Monty Python's Flying Circus, people still like using snake related puns. Anaconda is one of those. And it's also an excellent package of Python libraries and apps. By downloading and running Anaconda (which is several hundred megabytes) you get access to all manner of scientific Python routines, particularly Pandas, which we will use extensively, as well as beautifulsoup, networkx, nltk, and many more featured in this book. \n",
    "\n",
    "You can install all these libraries yourself by hand, but you will have to look elsewhere for instructions. That being said, if you want to see how I recommend installing packages in Jupyter, check out how I install our first external library on page xx. There is a small box with a code snippet I recommend using for importing routines in Jupyter should you wish to import your own. \n",
    "\n",
    "When you download and install Anaconda, you will get a program called Anaconda Navigator. This is an application hub that allows you to open and run a variety of applications for scientific computing. The first application in the upper left corner is probably Jupyter Lab and the second is Jupyter. How does Jupyter Lab differ from Jupyter? The original Jupyter can present one notebook at a time in a single column. Jupyter Lab, on the other hand, has a panel on the left hand side for navigation and multiple notebook tabs open at once. Through Jupyter Lab you can open and navigate files and work on multiple Jupyter notebooks at the same time. "
   ]
  },
  {
   "cell_type": "markdown",
   "metadata": {},
   "source": [
    "## Getting started with Jupyter Lab \n",
    "\n",
    "When you click on the Jupyter Lab icon in the Anaconda Navigator it should open up your default web browser and navigate to a page with the following URL: http://localhost:8888/lab . This URL is a little different from conventional URLs. Instead of a domain name like www.eff.org, it is just the word ```localhost```. This is your machine. It turns out Jupyter lab is actually a small server running on your computer that is serving you the application through a browser. The \"8888\" is a port number. A server communicates using different ports, often for different services. Standard unencrypted web traffic runs through port 80, while email often runs through ports 25 and 587. From now on, when we say open Jupyter Lab, we mean navigate to that particular browser tab that is running Jupyter Lab. Remember, however, if Jupyter is not running in the background then ```localhost:8888``` will just display a blank page. You must launch the server first and then you can use it. In addition to doing this by navigating to the Anaconda Navigator application, you can also do this in the terminal on MacOS / Linux and using the Anaconda Prompt app on the xx.symbol(windows) menu on Windows. \n",
    "\n",
    "When you open Jupyter Lab for the first time, you'll be greeted with a navigation pane on the left and side and a single tab open labelled 'Launcher'. You can use the Launcher to create a new Jupyter notebook. Create one using the first button (labelled \"Python 3\"). This is the default Python Jupyter notebook. There are a few ther types of notebooks that you can create at this point. Later (see Pg. xx) we will show you how to create a notebook that runs R code instead of Python. \n",
    "\n",
    "<fig  1. Jupyter blank screen - xx.REVIEWERNOTE(Waiting until near book completion to get shot to have most up to date, but it's basically going to be a flat screenshot in the browser with other details cropped) > \n",
    "\n",
    "Now that you have a new Jupyter notebook, have a look at the numbered diagram in Figure 2. Here I point out the various controls on the screen. \n",
    "\n",
    "<Fig 2. Jupyter notebook screen xx.REVIEWERNOTE(Ibid.)> \n",
    "\n",
    "1. _The browser address bar._ This is where you would type a URL. At the moment, it probably shows localhost:8888/lab. This means that you are looking at a webpage that is run from your local computer. 'localhost' is a shorthand for the Internet Protocol [IP] address for one's own computer.  The '8888' means that we have asked for data on Port 8888. You can also see Jupyter notebooks via the web, for example, Google have a service at https://colab.research.google.com that allow you to run Jupyter notebooks in the cloud.\n",
    "\n",
    "2. _The file menu._ This is where you can click on commands for Jupyter such as **File**&rarr;**New Launcher** so you can create a new notebook. Notice one of the file menu items is called 'Kernel'. This is the term for the instance of Python that runs the code, stores data, and returns a result. Each lab notebook has its own kernel. Sometimes we will need to restart the kernel, for example if we accidentally run a command that has no end, such as \"count every number\". The other important thing to note in kernel is that we can clear output. Sometimes, we will want to start our Jupyter notebooks fresh. Clicking **kernel**&rarr;**Restart Kernel and Clear All Outputs...** will make sure that all the cells are treated as if they have never ran. It's good to do this and re-run all your code from start to finish before sharing with other people.\n",
    "\n",
    "3. _The navigation sidebar._ On the left-hand side is where you can select a file or check to see which files are currently running. The top icon is the file icon, it points to a file browser. The navigation is pretty similar to what you would get with a file browser on your computer such as 'Finder' on Mac or 'Explorer' on Windows. \n",
    "\n",
    "4. _The tabs panel._ These tabs work like browser tabs. You can click on one to start working on that tab, drag the panels to change their order and check whether they have been recently saved by seeing whether there is a circle in the tab name on the right-hand side. You'll notice that there's a new file you just created and a second tab called 'launcher'. \n",
    "\n",
    "5. _The actions panel_. This small panel has some important and common actions like 'save', 'run' and 'stop'. I tend to use keyboard shortcuts for these actions. You will definitely want to notice on this panel where it says the word 'code'. That's where we assign the 'type' of a cell. You can change the type of a cell by selecting a different type from the drop-down menu that appears when you click where it says 'Code'. On the right hand side it says 'Python 3' which means that this particular notebook interprets code as Python 3 code. The right most dot is a status meter. When the computer is busy running code the circle is filled in and looks like a spot. When the computer is idle the circle is empty and looks like a ring. \n",
    "\n",
    "6. _The main panel_. This is where the work gets done. In this panel you'll see that content is organised in cells. Each cell can be either 'code', 'Markdown' or 'raw'. **Raw** text is not highlighted and the computer just ignores special characters and code. **Code** means that the contents of a cell are treated as Python code. **Markdown** is text that has extra characters to denote formatting. For example, Markdown uses two asterisks on either side of a string to indicate it should be bold: When I type \\*\\*this\\*\\* into a Markdown panel the text is rendered like **this**. Markdown is discussed more just below.\n",
    "\n",
    "7. _A Python cell_. You can tell this is a Python cell on your computer because it has _syntax highlighting_ that indicates Python-oriented words and variables. For example, the word 'print' will show up in green and comments will show up in blue. It also will say 'code' in the cell type in the main panel. To run the cell you can do any of the following: \n",
    "\n",
    " * The file menu. Click \"Run\"&rarr;\"Run Selected Cells\". \n",
    " * The triangle in the 'actions' panel. \n",
    " * (My favourite) Shift-enter on the keyboard.\n",
    "\n",
    "8. _Code numbers_. When you run a cell, it will report a number off to the left of the cell. That number represents the order in which cells were run. If there is no number that means the cell has not run yet. If you run a cell a second time, it will increment the number, so the number could actually go much higher than the number of cells in the notebook. You can also see a blue bar to the left of the number. Click that bar and it will collapse the output. This is handy if you have just printed out a lot of output but you want to hide it while you work on the code underneath."
   ]
  },
  {
   "cell_type": "markdown",
   "metadata": {},
   "source": [
    "## How to add text to a Markdown cell\n",
    "A markdown cell is one that has text in it. Markdown is a simple way to add features to text, like _italics_, headers, ~~strikethrough~~, and **bold**. In a Jupyter notebook that is rendered, you can click on a cell to see the Markdown that produced the text. Some of the more common things you will see in Markdown:\n",
    "\n",
    "1. Use two tildes (the ~ character) for ~~strikethrough~~\n",
    "2. Use two asterisks (the * character) for **bold**\n",
    "3. Use underscores (the _ character) for _italics_. \n",
    "4. Lists are auto generated by having several lines, where each starts with an asterisk and a space.\n",
    " * Here is a list item\n",
    " * A second item\n",
    " * These are indented because we had a space before the asterisk\n",
    "5. You can also embed code in a Markdown cell. It won't run but it will have syntax highlighting and a monospace font. This is using three tildes and then the name of the language like so:  \n",
    "\n",
    "    \\~~~ python\n",
    "    \n",
    "    print(\"Hello World\")\n",
    "    \n",
    "    \\~~~\n",
    "    \n",
    "and it will be formatted on the screen like: \n",
    "\n",
    "~~~ python    \n",
    "print(\"Hello World\")\n",
    "~~~\n",
    "\n",
    "6. Use hash (the # symbol) at the beginning of a line to make it a heading. You can use two hashes to make it a subheading (or three for subsubheading, etc...). \n",
    "7. Use the dollar symbol on either side of a formula to use math notation like $e^{{\\pi}i} = -1$ (and I use it for $commands$ ). \n",
    "8. Three or more dashes at the beginning of a line create a straight line across the page \n",
    "\n",
    "---"
   ]
  },
  {
   "cell_type": "markdown",
   "metadata": {},
   "source": [
    "## How to create a new cell / navigate with the keyboard\n",
    "\n",
    "At any given time only one cell might be in focus. To say 'in focus' means that the cell is editable. It also means keyboard shortcuts and the computer's list of undo actions refer to the text in that specific cell. When a cell is out of focus, it is still indicated with a blue strip on the left-hand side, but keyboard shortcuts and the undo actions refer to the Jupyter file and cells rather than their contents. It is important to be able to navigate into and out of focus for a given cell with the keyboard if you want to be a fluent user of Jupyter. Being able to have cells of different types organized in your notebooks is where Jupyter shines. For example, you can have one cell of code, then graphical output, a well-formatted table of numbers, and your notes just below. Moving around these cells can help you navigate not just the code, but the overall analysis. It also helps you to think about chunking your code and organising your questions. \n",
    "\n",
    "To change the focus from one cell to another, you can click on a new cell or 'run' the current cell. To run the current cell, press $shift-enter$. \n",
    "\n",
    "To get out of focus you can either: \n",
    "* Run the current cell ($shift-enter$), \n",
    "* Escape the cell ($escape key$).\n",
    "* $Single-click$ outside of the cell. \n",
    "\n",
    "To get in focus you can either:\n",
    "* Press $enter$,\n",
    "* $Double-click$ with the mouse.\n",
    "\n",
    "If the cell is not in focus you can tell because there is no cursor and pressing up or down will move the blue bar on the left hand side up and down. If it is in focus you can tell because pressing up and down will move the cursor within the cell. \n",
    "\n",
    "To create a new cell, you have to be out of focus. You can do this by pressing $a$ for above and $b$ for below the current highlighted cell. \n",
    "\n",
    "To delete a cell, you press $d d$, that's $d$ twice. Remember that this only happens when you are not in focus, otherwise you would just be typing the letters dd into the cell. \n",
    "\n",
    "To change a cell from 'code' to 'Markdown' you can either:\n",
    "- Use the menu at the top,\n",
    "- When the cell is not in focus you can press $c$ for code and $m$ for Markdown. "
   ]
  },
  {
   "cell_type": "markdown",
   "metadata": {},
   "source": [
    "# How to write formulae in a cell \n",
    "\n",
    "Throughout this book, you will see a few formulae. For example, here is a formula for getting the average (or specifically the ''arithmetic mean'):\n",
    "\n",
    "$$ \\bar{x} = \\frac{1}{n} \\sum^{n}_{i=1}x_{i} $$\n",
    "\n",
    "This formula was not written with Markdown but with a special typesetting language called $\\LaTeX$. Technical papers are often drafted in $\\LaTeX$ as are many books in STEM fields. It is less common in social sciences, but it is really handy. I wrote my dissertation (like this book) in a combination of $\\LaTeX$ and Markdown.\n",
    "\n",
    "The formula was given its own line because it was enclosed with ```$$``` characters. Here is what the code looks like: ```\\bar{x} = \\frac{1}{n} \\sum^{n}_{i=1}x_{i}```. If we enclose it with single  ```$``` it will be a formula inline, like so: $ \\bar{x} = \\frac{1}{n} \\sum^{n}_{i=1}x_{i} $. I use inline formulae for most numbers in this book as well as commands. \n",
    "\n",
    "If you click on this cell, you can see the formatting underneath. Here we are just using MathJax, which is a subset of LaTeX used for formulae. StackExchange have a nice brisk tutorial of the syntax of MathJax [here](https://math.meta.stackexchange.com/questions/5020/mathjax-basic-tutorial-and-quick-reference). Basically, there is syntax for:\n",
    "* Superscripts , ```x^i``` $e^i$, subscripts, ```x_i``` $e_i$, \n",
    "* Fractions, with ```\\frac{NUMERATOR}{DENOMINATOR}```, as in $\\frac{x^3}{y_i}$\n",
    "* Parentheses (using ```\\left(``` and ```\\right)``` to scale properly) as in $\\left(\\frac{\\sqrt x}{y^3}\\right)$\n",
    "* Summation, product, and related symbols. ```\\sum``` for $\\sum$, and ```\\prod``` for $\\prod$.\n",
    "* Greek symbols. Use their name for the symbol such as ```\\alpha``` for $\\alpha$ or ```\\omega``` for $\\omega$.\n",
    "* A host of diacritics, math symbols, and fonts. Check the tutorial above for clear examples."
   ]
  },
  {
   "cell_type": "markdown",
   "metadata": {},
   "source": [
    "## The big Jupyter Gotcha \n",
    "\n",
    "There are many advantages to running code in Jupyter but there are a few caveats. One in particular is really important to discuss right up front: You can run cells in any order even if you do not mean to. From this you can run into some pretty common issues. \n",
    "\n",
    "1. Running code out of sequence. Imagine that in cell one I clean up some text (for example, I remove all the periods and commas). Then in cell two I run some code on that text (for example, make it ALL CAPS). Now imagine I then go back and do something else in cell one, such as change my code to remove apostrophes as well. So I run cell one again, but skip the second cell. Now my data is not in ALL CAPS and subsequent cells will not get the data they expected. \n",
    "\n",
    "2. The \"I've changed my variables to make them read better\" issue. This one is my number one gotcha. As an example, I might change a variable name once I get my code working but want to make it more readable. But because Jupyter does not have a great 'find and replace' system, I might forget to change _all_ of the instances of a variable. So if the variable was called ```tl``` but I want it to be ```tweet_list```, then I replace the variable name. But what if I do not change it _everywhere_? There might still be a tl left in the code somewhere. The program sees this and keeps running (since ```tl``` was already created). But the next time I restart the program, that ```tl``` will not be created, ```tweet_list``` will. So the program will throw an error that any remaining ```tl``` is an unrecognised variable. \n",
    "\n",
    "To practice navigating in Jupyter as well as see some of the issues that might happen if you're not careful, you can download and run <xx.exercise_ch00_s1.ipynb>. \n",
    "\n",
    "In general,\n",
    "- Run your Jupyter cells in order, unless absolutely necessary. \n",
    "- If you change a variable, be sure to change it __everywhere__. \n",
    "- If you change a cell further up in your code, run every line afterwards. \n",
    "- If you send notebooks to other people, then from the menu: \"Kernel\"&rarr;\"Restart Kernel and Run All Cells...\". If you get an error then debug it before you send the code to people. "
   ]
  },
  {
   "cell_type": "code",
   "execution_count": null,
   "metadata": {},
   "outputs": [],
   "source": []
  }
 ],
 "metadata": {
  "kernelspec": {
   "display_name": "Python 3",
   "language": "python",
   "name": "python3"
  },
  "language_info": {
   "codemirror_mode": {
    "name": "ipython",
    "version": 3
   },
   "file_extension": ".py",
   "mimetype": "text/x-python",
   "name": "python",
   "nbconvert_exporter": "python",
   "pygments_lexer": "ipython3",
   "version": "3.7.3"
  }
 },
 "nbformat": 4,
 "nbformat_minor": 4
}
