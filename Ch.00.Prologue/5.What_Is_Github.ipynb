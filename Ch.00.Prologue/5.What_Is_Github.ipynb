{
 "cells": [
  {
   "cell_type": "markdown",
   "metadata": {},
   "source": [
    "# Github: A home for collaboration\n",
    "\n",
    "Ever wonder how computer programmers keep their code up-too-date? They use a version control system. Such systems allow you to download code, modify it, check in those modifications and remember different versions of the code so you can roll back any changes. There are numerous version control systems out there. The classic one was simply called cvs or \"Concurrent Versions System\". Despite its many advantages it was eventually superseded for most programmers by a system called \"Git\". \n",
    "\n",
    "Git is a system for managing files. You can run a git server on your own computer. It is doable but not especially common. Instead, people tend to use a git platform run by someone else. The dominant one is GitHub. Another would be BitBucket. If you find code on Github you can download it directly to your computer. However, you can go further than that and 'fork' the program. This means you have now created your own variant of the existing software. If you make changes to a fork of a software program those changes only show up in your forked version. If you want those changes to appear in the original that you forked, you can create a 'pull request', which asks the maintainer of the original program to integrate (or pull in) your code.\n",
    "\n",
    "The exercises for this book can be found on Sage's GitHub repository. We will not cover most of the details of Git here, but it is worth noting that GitHub now renders notebooks on the site. This way you can go to an archive with a Jupyter notebook and see it on the site rendered as if you were running Jupyter. You cannot run the cells however. For that you would have to run the notebook elsewhere such as http://colab.research.google.com.\n",
    "\n",
    "If you want to download the notebooks, GitHub allows you to downlod the file directly, or to download it into an archive on your computer that you can sync with GitHub. While many people use the terminal for this, GitHub also has applications for Windows and Mac that make it very easy to manage files as they are edited by you and collaborators and synced through GitHib. \n",
    "\n",
    "I would actually recommend that you create your own clone of the files for this book and work off of that clone. To note, simply because you \"clone into desktop\" this project does not mean you can push changes to the original repository. For that, you would need to be a project member and not just a reader of this book. If however, you wanted to alert a repository maintainer of a typo or otherwise want to contribute, you can always create a pull request. "
   ]
  },
  {
   "cell_type": "code",
   "execution_count": null,
   "metadata": {},
   "outputs": [],
   "source": []
  }
 ],
 "metadata": {
  "kernelspec": {
   "display_name": "Python 3",
   "language": "python",
   "name": "python3"
  },
  "language_info": {
   "codemirror_mode": {
    "name": "ipython",
    "version": 3
   },
   "file_extension": ".py",
   "mimetype": "text/x-python",
   "name": "python",
   "nbconvert_exporter": "python",
   "pygments_lexer": "ipython3",
   "version": "3.7.3"
  }
 },
 "nbformat": 4,
 "nbformat_minor": 2
}
