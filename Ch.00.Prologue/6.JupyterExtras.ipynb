{
 "cells": [
  {
   "cell_type": "markdown",
   "metadata": {
    "toc-hr-collapsed": false
   },
   "source": [
    "# Jupyter Extras: Table of Contents and GitHub integration \n",
    "\n",
    "There are two extras that do not come with the Anaconda version of Python but should hopefully work with Jupyter Lab given your specific version (which will be more recent than the one I am using here, by nature). Both are extra tabs in the side bar that help you manage your files: \"Table of Contents\" and \"GitHub integration\". These might be a bit tedious to install, but I have found that they both work pretty much as expected given the instructions. Also, both come from the Jupyter Lab team, so they are not especially experimental or fragile, just optional. \n",
    "\n",
    "Before you install them, however, you might need to install some of the 'dependencies'. A dependency is a package or program required for a program to run. The most likely package you will need is the NodeJS package. NodeJS is an internet server architecture. It runs code in JavaScript on a server and renders it for a client, like a web browser. To install NodeJS so you can install the following packages, open Anaconda Prompt (on Windows) or a terminal window (MacOS / Linux) and type: \n",
    "\n",
    "~~~ bash\n",
    "conda install -c conda-forge nodejs \n",
    "~~~"
   ]
  },
  {
   "cell_type": "markdown",
   "metadata": {
    "toc-hr-collapsed": false
   },
   "source": [
    "## JupyterLab Table of Contents. \n",
    "\n",
    "This is a very handy tab for the sidebar. It uses the header depth of markdown to create automatically numbered sections. If you notice in Jupyter that when you click on a header it is like regular text except it will have a hashtag in front of it. One hashtag means header 1. Two mean header 2. Three mean header 3, etc...\n",
    "\n",
    "Therefore, if your text looks like this:"
   ]
  },
  {
   "cell_type": "markdown",
   "metadata": {
    "toc-hr-collapsed": false
   },
   "source": [
    "```\n",
    "# Big Headline is Big\n",
    "## But that doesn't always mean it's better\n",
    "### Sometimes good things come in small headers. \n",
    "```\n",
    "\n",
    "then on the sidebar you will see:\n",
    "\n",
    "```\n",
    "1. Big Headline is Big \n",
    "1.1 But that doesn't always mean it's better\n",
    "1.1.1 Sometimes good things come in small headers. \n",
    "```\n",
    "\n",
    "Note that it only works with headers at the beginning of cells. So if you place a subheading in the same cell, Jupyter Table of Contents will not find it. \n",
    "\n",
    "To install the latest version of Jupyter-toc run the following code in console: \n",
    "```\n",
    "jupyter labextension install @jupyterlab/toc\n",
    "```\n",
    "\n",
    "Now how do you find a console? On windows type WINDOWS-KEY to bring up the search, then type \"anaconda prompt\". There might be a couple prompts on your computer, but this one will know where to find python and install the extension in the correct place. On MacOS, search for 'Terminal' and then run the above command in the terminal. \n",
    "\n",
    "Please note, this code does not always work as it is sometimes out of sync with the version of Jupyterlab in Anaconda. But it should work and is very handy. Consult the 'updates' section of the GitHub page if this doesn't work. There I will provide updated solutions for installation if possible. \n",
    "\n",
    "Once you run it make sure that you do not get any errors. Note that sometimes you might get a _warning_; these are ok. They often advise caution but do not mean the program failed to install. _Errors_, on the other hand, will stop the program from installing. If you do not get any errors, refresh your JupyterLab window. You should see a new tab on the left-hand side with three lines and three dots. That's the table of contents tab. Now open a notebook file with Markdown headers (or create one) and see for yourself how it works.  "
   ]
  },
  {
   "cell_type": "markdown",
   "metadata": {},
   "source": [
    "## GitHub integration \n",
    "\n",
    "There are many exercises and sheets that go along with this course. You can download them from github.com. But wouldn't it be nice to have the most updated version ready immediately in JupyterLab? The Github extension allows you to type in a repository and view the files right from JupyterLab. Thus, by installing this extension you're getting much closer to viewing the exercises right when you need them. As a bonus, this book is not the only one that does this. On Github you can see many repositories of python notebooks. Some of my favorite include Van Der Plas's Data Science in Python (which is like this book but with less social science and many more techniques) and the Bokeh library which shows how to create interactive visualisations to reveal data. We will be loading some Bokeh code later in the book. \n",
    "\n",
    "To get started, first run the following code, again from the prompt/terminal like with Table of contents above:\n",
    "\n",
    "~~~\n",
    "jupyter labextension install @jupyterlab/github\n",
    "~~~\n",
    "\n",
    "Then refresh your browser. Now you can type in the name of a Github user and see the code in each of their projects. Unfortuantely, you cannot save your code as it would overwrite what is on the server. If you want to save your progress I recommend right-clicking the file name, select \"Copy\" and then navigate to a home folder and paste. Alternately, just download the entire repository from the GitHub webpage or the GitHub app and use that directory. "
   ]
  },
  {
   "cell_type": "code",
   "execution_count": null,
   "metadata": {},
   "outputs": [],
   "source": []
  }
 ],
 "metadata": {
  "kernelspec": {
   "display_name": "Python 3",
   "language": "python",
   "name": "python3"
  },
  "language_info": {
   "codemirror_mode": {
    "name": "ipython",
    "version": 3
   },
   "file_extension": ".py",
   "mimetype": "text/x-python",
   "name": "python",
   "nbconvert_exporter": "python",
   "pygments_lexer": "ipython3",
   "version": "3.7.3"
  },
  "toc-autonumbering": true,
  "toc-showcode": false,
  "toc-showmarkdowntxt": false,
  "toc-showtags": false
 },
 "nbformat": 4,
 "nbformat_minor": 2
}
