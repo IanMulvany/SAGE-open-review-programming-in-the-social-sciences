{
 "cells": [
  {
   "cell_type": "markdown",
   "metadata": {},
   "source": [
    "# Prerequisites for FSSDS\n",
    "\n",
    "This probably should not be your first introduction to the Python programming language. But why not start right at the beginning? In reviewing this book, it became clear that for the basics of Python, there exist a huge number of books, YouTube videos, Reddit posts, blog posts, and MOOCs. Surely at least one of them is better than what I could do. \n",
    "\n",
    "Despite the proliferation of these \"Intro to Python\" type courses, there seemed to be a gap just afterwards. Students might endlessly practice some simple skills or learn some clever library but not know how to put the pieces together. This makes the chasm between introductory texts and specialised texts a little too great. Take, for example, Cloffi-Revilla's \"Introduction to Computational Social Science\". This book is stats heavy and assumes you already know Python. Yet, what does it mean to say you know Python? In most cases, it's more than just do you know what is a list or dictionary. Instead, it's expected you'd know how to clean some data, make a few plots, maybe capture some data from the web, and definitely to put this data in a table for analysis. \n",
    "\n",
    "So in your hands (or on your screen) is a bridge-building book. My goal is to help you move from the introductory courses on DataCamp, Coursera, and their ilk to the more complex work in simulations and models. This book might not get you all the way there, but I know for certain that the skills in this book can help you get as far as published research, even in computational social science. If you want to then embark on specialised topics, I think you will be much better prepared. And if you want to just hone these skills in descriptive and exploratory work, you might be surprised at how far you can get with what is included in here. \n",
    "\n",
    "So what should you already know before beginning with this book? Below is a list of python programming concepts you should already be familiar with. In Appendix XX are pointers to further places where you can practice these skills.\n",
    "\n",
    "I suspect that the introductory skills needed for this book could be picked up in a couple days, but it's also hard for me to remember what it is like coming from no programming. Maybe 3-4 days of solid instruction is more realistic? Maybe a couple weeks with practice to get really confident. I would not expect it requiring much more. But here are the things worth knowing: \n",
    "\n",
    "- What is a variable? \n",
    "- What is a string? What is a character? \n",
    "- What are escape characters (e.g., \"\\n\", \"\\\\\", \"\\'\") and when to use them? \n",
    "- How do you print text? How do you print a variable? \n",
    "- What is a list? \n",
    "- What is a for loop? How does it differ from a while loop?\n",
    "- What is a dictionary? \n",
    "- How is accessing data in a list different from accessing data in a dictionary?\n",
    "- What is a function and how do you build one? \n",
    "- How do you use if statements and boolean variables? \n",
    "- How do you write to a file and read from a file? \n",
    "\n",
    "In appendix Ixx, I provide small code snippets for these tasks if you want a refresher. However, if you are coming to Python with zero programming knowledge, check the Appendix for further resources. There are many, many free resources available for this. Then, when you feel like you can handle these concepts, come back and dive into DataFrames. "
   ]
  },
  {
   "cell_type": "markdown",
   "metadata": {},
   "source": [
    "## What about statistics?\n",
    "\n",
    "Data science involves statistics by nature. If we have many data points, we have a distribution of them. Some data points will be larger and others small. But how much larger or how much smaller? Statistics can help us answer that. Classic statistics can help us say whether something is 'significantly' smaller or larger. More recent statistics can help us say whether knowing something about a conversation can help us predict whether the next utterance is more likely to come from one speaker or another.  \n",
    "\n",
    "For many, this is immediately going to put them off programming. Many times I've heard students say they won't like programming as they aren't good at maths. And if they aren't good at maths, then forget stats! Hopefully this book can help ease any anxieties about math and stats. That's not because the book is math and stats free. This book definitely will have some statistics in here. But the stats are relatively basic and we will make only the barest assumptions about prior stats knowledge. We might think of the way we use statistics in this book is as a learning practicioner. Similarly, I try to keep the number of formulae in the book to a minimum. Instead, get ready for a lot of analogies, examples, figures, and practice data. We will use statistics as one tool among many, but what we are teaching is _interpretation of data_, not statistics. Have a flip through the book and see for yourself: lots of code, more than a few figures but not a lot of greek letters. \n",
    "\n",
    "If you want to advance in data science, especially towards the hotly emerging fields of machine learning and artificial intelligence, you will inevitably encounter some pretty advanced maths (especially in linear algebra) and stats (particuarlly Bayesian statistics not often taught in social science). This book is not going to get you there, but it will hopefully get you started in your journey. In the later sections of the book, we will be doing some work on transforming variables, which will require a little maths, checking some exploratory stats for comparing distribitions, and even introducing some really simple classifiers. With these in hand, it is my hope you wil have a working literacy for these topics and a newfound appetite to dig deeper into them in other advanced books. \n",
    "\n",
    "Data science is a set of practices that allow people to make sense of data, typically (but not necessarily) large volumes of data that make simple calculations difficult. Because of the scale of data produced, a lot of data science is rolled into a closely related field: machine learning. These are, however, two distinct fields. Machine learning refers to a set of practices that use patterns and inference to perform tasks on data. Machine learning algorithms are often very hungry for data. Training neural networks to come up with speech patterns, or average faces might require huge sets of data (as in millions or billions words or photos). Thus, getting that data and making sure its the right kind of data are very much tasks suited for data science as a precursor to machine learning. \n",
    "\n",
    "Yet, not all data science leads to machine learning. Much of it can lead to visualisations, more traditional statistics, network analysis and just descriptive tables with clear summaries. A lot of books tend to rush to show off the cool classification algorithms or show some complex patterns in the data but we are going to resist this here. Instead, we will be focusing on how to be thoughtful and critical of data. As I'll lay out in chapter one, our goal is insight and wisdom from data, not just a data analysis for its own sake."
   ]
  },
  {
   "cell_type": "code",
   "execution_count": null,
   "metadata": {},
   "outputs": [],
   "source": []
  }
 ],
 "metadata": {
  "kernelspec": {
   "display_name": "Python 3",
   "language": "python",
   "name": "python3"
  },
  "language_info": {
   "codemirror_mode": {
    "name": "ipython",
    "version": 3
   },
   "file_extension": ".py",
   "mimetype": "text/x-python",
   "name": "python",
   "nbconvert_exporter": "python",
   "pygments_lexer": "ipython3",
   "version": "3.7.3"
  }
 },
 "nbformat": 4,
 "nbformat_minor": 4
}
