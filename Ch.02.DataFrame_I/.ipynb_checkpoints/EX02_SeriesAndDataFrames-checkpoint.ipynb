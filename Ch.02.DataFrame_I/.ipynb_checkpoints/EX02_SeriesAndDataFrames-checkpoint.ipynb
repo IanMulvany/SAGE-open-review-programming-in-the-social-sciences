{
 "cells": [
  {
   "cell_type": "markdown",
   "metadata": {},
   "source": [
    "# Exercise Sheet. Chapter 2. The Series and the DataFrame\n",
    "\n",
    "**Book: From Social Science to Data Science** \n",
    "\n",
    "**Author: Bernie Hogan**\n",
    "\n",
    "**Last revision: September 19, 2019**"
   ]
  },
  {
   "cell_type": "markdown",
   "metadata": {},
   "source": [
    "This worksheet provides executable versions of the code featured in the chapter. The explanations are much more terse here, but you also get some extra steps and output because it is easier to show it on screen than in a text."
   ]
  },
  {
   "cell_type": "code",
   "execution_count": 2,
   "metadata": {},
   "outputs": [],
   "source": [
    "# Creating a series - one way. \n",
    "from pandas import Series \n",
    "ser1 = Series()\n",
    "\n",
    "# Creating a series - another way. \n",
    "import pandas as pd\n",
    "ser1 = pd.Series()"
   ]
  },
  {
   "cell_type": "markdown",
   "metadata": {},
   "source": [
    "## Making a series from a list"
   ]
  },
  {
   "cell_type": "code",
   "execution_count": 3,
   "metadata": {},
   "outputs": [
    {
     "data": {
      "text/plain": [
       "0       Monday\n",
       "1      Tuesday\n",
       "2    Wednesday\n",
       "3     Thursday\n",
       "4       Friday\n",
       "5     Saturday\n",
       "6       Sunday\n",
       "Name: Weekdays, dtype: object"
      ]
     },
     "metadata": {},
     "output_type": "display_data"
    }
   ],
   "source": [
    "lweekdays = [\"Monday\",\"Tuesday\",\"Wednesday\",\"Thursday\",\"Friday\",\"Saturday\",\"Sunday\"]\n",
    "\n",
    "sweekdays = pd.Series(lweekdays,name=\"Weekdays\")\n",
    "\n",
    "display(sweekdays)"
   ]
  },
  {
   "cell_type": "markdown",
   "metadata": {},
   "source": [
    "## Making a series from a dictionary"
   ]
  },
  {
   "cell_type": "code",
   "execution_count": 4,
   "metadata": {},
   "outputs": [
    {
     "data": {
      "text/plain": [
       "Sunday       8\n",
       "Monday       7\n",
       "Tuesday      5\n",
       "Wednesday    6\n",
       "Thursday     8\n",
       "Friday       9\n",
       "Saturday     8\n",
       "dtype: int64"
      ]
     },
     "metadata": {},
     "output_type": "display_data"
    }
   ],
   "source": [
    "dsleephours =  {\"Sunday\":8,\n",
    "                \"Monday\":7,\n",
    "                \"Tuesday\":5,\n",
    "                \"Wednesday\":6,\n",
    "                \"Thursday\":8,\n",
    "                \"Friday\":9,\n",
    "                \"Saturday\":8}\n",
    "\n",
    "sleephours = pd.Series(dsleephours)\n",
    "\n",
    "display(sleephours) "
   ]
  },
  {
   "cell_type": "markdown",
   "metadata": {},
   "source": [
    "## Working from an index"
   ]
  },
  {
   "cell_type": "code",
   "execution_count": 6,
   "metadata": {},
   "outputs": [
    {
     "data": {
      "text/plain": [
       "5"
      ]
     },
     "metadata": {},
     "output_type": "display_data"
    },
    {
     "data": {
      "text/plain": [
       "5"
      ]
     },
     "metadata": {},
     "output_type": "display_data"
    }
   ],
   "source": [
    "# Get a value from the table by index label.\n",
    "display(sleephours[\"Tuesday\"])\n",
    "\n",
    "# Get a value from the table by position.\n",
    "display(sleephours[2])\n"
   ]
  },
  {
   "cell_type": "markdown",
   "metadata": {},
   "source": [
    "## Working from values (and slicing)"
   ]
  },
  {
   "cell_type": "code",
   "execution_count": 7,
   "metadata": {},
   "outputs": [
    {
     "data": {
      "text/plain": [
       "Sunday        True\n",
       "Monday       False\n",
       "Tuesday      False\n",
       "Wednesday    False\n",
       "Thursday      True\n",
       "Friday        True\n",
       "Saturday      True\n",
       "dtype: bool"
      ]
     },
     "metadata": {},
     "output_type": "display_data"
    }
   ],
   "source": [
    "display(sleephours > 7)"
   ]
  },
  {
   "cell_type": "code",
   "execution_count": 8,
   "metadata": {},
   "outputs": [
    {
     "data": {
      "text/plain": [
       "Sunday      8\n",
       "Thursday    8\n",
       "Friday      9\n",
       "Saturday    8\n",
       "dtype: int64"
      ]
     },
     "metadata": {},
     "output_type": "display_data"
    }
   ],
   "source": [
    "# This shows how to slice data down to rows that meet the criterion\n",
    "display(sleephours[sleephours >= 8])"
   ]
  },
  {
   "cell_type": "code",
   "execution_count": 20,
   "metadata": {},
   "outputs": [
    {
     "data": {
      "text/plain": [
       "0.5714285714285714"
      ]
     },
     "metadata": {},
     "output_type": "display_data"
    },
    {
     "name": "stdout",
     "output_type": "stream",
     "text": [
      "The proportion of days per week where the subject had 8 or more hours is 0.57\n"
     ]
    }
   ],
   "source": [
    "# Here we show \n",
    "days_sleep = len(sleephours[sleephours >= 8])\n",
    "total_days = len(sleephours)\n",
    "display(days_sleep / total_days)\n",
    "\n",
    "# I'm printing it here in the proper style of using 'format()'\n",
    "# And putting the number in a useful sentence to remember what I calculated\n",
    "print(\"The proportion of days per week where the subject had 8 or more hours is {:.2f}\".format\n",
    "      (days_sleep/total_days))"
   ]
  },
  {
   "cell_type": "markdown",
   "metadata": {},
   "source": [
    "# Working with distributions "
   ]
  },
  {
   "cell_type": "code",
   "execution_count": 21,
   "metadata": {},
   "outputs": [
    {
     "data": {
      "text/plain": [
       "8    3\n",
       "7    1\n",
       "6    1\n",
       "5    1\n",
       "9    1\n",
       "dtype: int64"
      ]
     },
     "metadata": {},
     "output_type": "display_data"
    }
   ],
   "source": [
    "display(sleephours.value_counts())"
   ]
  },
  {
   "cell_type": "code",
   "execution_count": 22,
   "metadata": {},
   "outputs": [
    {
     "data": {
      "text/plain": [
       "True     4\n",
       "False    3\n",
       "dtype: int64"
      ]
     },
     "execution_count": 22,
     "metadata": {},
     "output_type": "execute_result"
    }
   ],
   "source": [
    "(sleephours > 7).value_counts()"
   ]
  },
  {
   "cell_type": "code",
   "execution_count": 26,
   "metadata": {},
   "outputs": [
    {
     "data": {
      "text/plain": [
       "'7.29'"
      ]
     },
     "metadata": {},
     "output_type": "display_data"
    }
   ],
   "source": [
    "display(\"{:.3}\".format(sleephours.mean()))"
   ]
  },
  {
   "cell_type": "code",
   "execution_count": 24,
   "metadata": {},
   "outputs": [
    {
     "data": {
      "text/plain": [
       "9"
      ]
     },
     "metadata": {},
     "output_type": "display_data"
    }
   ],
   "source": [
    "display(sleephours.max())"
   ]
  },
  {
   "cell_type": "markdown",
   "metadata": {},
   "source": [
    "## Considering a Series versus a List"
   ]
  },
  {
   "cell_type": "code",
   "execution_count": 28,
   "metadata": {},
   "outputs": [
    {
     "data": {
      "text/plain": [
       "'A list has 46 methods.'"
      ]
     },
     "metadata": {},
     "output_type": "display_data"
    },
    {
     "data": {
      "text/plain": [
       "'A series has 457 methods.'"
      ]
     },
     "metadata": {},
     "output_type": "display_data"
    }
   ],
   "source": [
    "ex_list = [] # Just an empty list\n",
    "ex_series = pd.Series(ex_list) # Now an empty series\n",
    "\n",
    "display(\"A list has {} methods.\".format( len( dir(ex_list)))) \n",
    "\n",
    "display(\"A series has {} methods.\".format( len( dir(ex_series)))) "
   ]
  },
  {
   "cell_type": "markdown",
   "metadata": {},
   "source": [
    "## Adding data to a Series"
   ]
  },
  {
   "cell_type": "code",
   "execution_count": 33,
   "metadata": {},
   "outputs": [
    {
     "data": {
      "text/plain": [
       "0       Kermit\n",
       "1        Piggy\n",
       "2       Fozzie\n",
       "3       Animal\n",
       "4       Janice\n",
       "5    Dr. Teeth\n",
       "dtype: object"
      ]
     },
     "metadata": {},
     "output_type": "display_data"
    }
   ],
   "source": [
    "# Convert a list to a Series and append it to an existing Series.\n",
    "# Step 1. Create Series 1. \n",
    "ldemo1 = [\"Kermit\",\"Piggy\",\"Fozzie\"]\n",
    "sdemo1 = pd.Series(ldemo1) \n",
    "\n",
    "# Step 2. Create series 2. \n",
    "ldemo2 = [\"Animal\",\"Janice\", \"Dr. Teeth\"]\n",
    "sdemo2 = pd.Series(ldemo2) \n",
    "\n",
    "# Step 3. Append series 2. \n",
    "# Notice the 'ignore_index' argument. \n",
    "# Try running this without that argument (you will notice the index will be messed up)\n",
    "sdemo1and2 = sdemo1.append(sdemo2,ignore_index=True)\n",
    "display(sdemo1and2)"
   ]
  },
  {
   "cell_type": "code",
   "execution_count": 34,
   "metadata": {},
   "outputs": [
    {
     "data": {
      "text/plain": [
       "0       Kermit\n",
       "1        Piggy\n",
       "2       Fozzie\n",
       "0       Animal\n",
       "1       Janice\n",
       "2    Dr. Teeth\n",
       "dtype: object"
      ]
     },
     "metadata": {},
     "output_type": "display_data"
    }
   ],
   "source": [
    "# When appended without the ignore_index, the index is 0,1,2,0,1,2\n",
    "sdemo1and2noindex = sdemo1.append(sdemo2)\n",
    "\n",
    "display(sdemo1and2noindex)"
   ]
  },
  {
   "cell_type": "code",
   "execution_count": 35,
   "metadata": {},
   "outputs": [
    {
     "data": {
      "text/plain": [
       "0       Kermit\n",
       "1        Piggy\n",
       "2       Fozzie\n",
       "3       Animal\n",
       "4       Janice\n",
       "5    Dr. Teeth\n",
       "dtype: object"
      ]
     },
     "metadata": {},
     "output_type": "display_data"
    }
   ],
   "source": [
    "ldemo1 = [\"Kermit\",\"Piggy\",\"Fozzie\"]\n",
    "sdemo1 = pd.Series(ldemo1) \n",
    "\n",
    "# The second way, let's append the data one new index at a time.\n",
    "ldemo2 = [\"Animal\",\"Janice\", \"Dr. Teeth\"]\n",
    "\n",
    "for i in ldemo2: \n",
    "    sdemo1[len(sdemo1)] = i\n",
    "display(sdemo1)"
   ]
  },
  {
   "cell_type": "markdown",
   "metadata": {},
   "source": [
    "### Comparing the two different ways using timeit. \n",
    "\n",
    "In the book we simply stated that appending the two together was quicker than using a for loop. We can, however, test that out by using timeit, a module in jupyter that allows us to see how long it takes to run a cell or line of code. "
   ]
  },
  {
   "cell_type": "code",
   "execution_count": 37,
   "metadata": {},
   "outputs": [
    {
     "name": "stdout",
     "output_type": "stream",
     "text": [
      "291 µs ± 8 µs per loop (mean ± std. dev. of 7 runs, 1000 loops each)\n"
     ]
    }
   ],
   "source": [
    "%%timeit\n",
    "\n",
    "ldemo1 = [\"Kermit\",\"Piggy\",\"Fozzie\"]\n",
    "sdemo1 = pd.Series(ldemo1) \n",
    "\n",
    "ldemo2 = [\"Animal\",\"Janice\", \"Dr. Teeth\"]\n",
    "sdemo2 = pd.Series(ldemo2) \n",
    "\n",
    "sdemo1and2 = sdemo1.append(sdemo2,ignore_index=True)"
   ]
  },
  {
   "cell_type": "code",
   "execution_count": 36,
   "metadata": {},
   "outputs": [
    {
     "name": "stdout",
     "output_type": "stream",
     "text": [
      "2.32 ms ± 31.3 µs per loop (mean ± std. dev. of 7 runs, 100 loops each)\n"
     ]
    }
   ],
   "source": [
    "%%timeit \n",
    "\n",
    "ldemo1 = [\"Kermit\",\"Piggy\",\"Fozzie\"]\n",
    "sdemo1 = pd.Series(ldemo1) \n",
    "\n",
    "ldemo2 = [\"Animal\",\"Janice\", \"Dr. Teeth\"]\n",
    "\n",
    "for i in ldemo2: \n",
    "    sdemo1[len(sdemo1)] = i"
   ]
  },
  {
   "cell_type": "markdown",
   "metadata": {},
   "source": [
    "There we have it, The append is an order of magnitude faster. You will see this sort of speed difference in managing data throughout this book and your work. Using methods like %timeit can help here."
   ]
  },
  {
   "cell_type": "markdown",
   "metadata": {},
   "source": [
    "# Deleting data from a Series "
   ]
  },
  {
   "cell_type": "code",
   "execution_count": 41,
   "metadata": {},
   "outputs": [
    {
     "data": {
      "text/plain": [
       "0    Kermit\n",
       "2    Fozzie\n",
       "dtype: object"
      ]
     },
     "metadata": {},
     "output_type": "display_data"
    }
   ],
   "source": [
    "sdemo = pd.Series([\"Kermit\",\"Piggy\",\"Fozzie\"])\n",
    "del sdemo[1]\n",
    "display(sdemo)"
   ]
  },
  {
   "cell_type": "code",
   "execution_count": 40,
   "metadata": {},
   "outputs": [
    {
     "data": {
      "text/plain": [
       "0    Kermit\n",
       "1    Fozzie\n",
       "dtype: object"
      ]
     },
     "metadata": {},
     "output_type": "display_data"
    }
   ],
   "source": [
    "# Notice how it deleted the data but preserved the index? \n",
    "\n",
    "# Let's create a new index\n",
    "sdemo.index = range(len(sdemo))\n",
    "\n",
    "display(sdemo)"
   ]
  },
  {
   "cell_type": "markdown",
   "metadata": {},
   "source": [
    "# Working with missing data in a Series"
   ]
  },
  {
   "cell_type": "code",
   "execution_count": 43,
   "metadata": {},
   "outputs": [
    {
     "data": {
      "text/plain": [
       "0   NaN\n",
       "1   NaN\n",
       "2   NaN\n",
       "3   NaN\n",
       "4   NaN\n",
       "dtype: float64"
      ]
     },
     "metadata": {},
     "output_type": "display_data"
    }
   ],
   "source": [
    "# Creates a series of length 5 with no data. \n",
    "sdemo = pd.Series(index=[0,1,2,3,4])\n",
    "display(sdemo)"
   ]
  },
  {
   "cell_type": "code",
   "execution_count": 44,
   "metadata": {},
   "outputs": [
    {
     "data": {
      "text/plain": [
       "0    Kermit\n",
       "1       NaN\n",
       "2       NaN\n",
       "3    Fozzie\n",
       "4       NaN\n",
       "dtype: object"
      ]
     },
     "metadata": {},
     "output_type": "display_data"
    }
   ],
   "source": [
    "# Now adding some data to that series\n",
    "sdemo[0] = \"Kermit\"\n",
    "sdemo[3] = \"Fozzie\"\n",
    "display(sdemo)"
   ]
  },
  {
   "cell_type": "markdown",
   "metadata": {},
   "source": [
    "## Getting rid of missing values "
   ]
  },
  {
   "cell_type": "code",
   "execution_count": 45,
   "metadata": {},
   "outputs": [
    {
     "data": {
      "text/plain": [
       "0    Kermit\n",
       "3    Fozzie\n",
       "dtype: object"
      ]
     },
     "metadata": {},
     "output_type": "display_data"
    }
   ],
   "source": [
    "display(sdemo.dropna())"
   ]
  },
  {
   "cell_type": "markdown",
   "metadata": {},
   "source": [
    "## Using fillna() to replace values"
   ]
  },
  {
   "cell_type": "code",
   "execution_count": 53,
   "metadata": {},
   "outputs": [
    {
     "data": {
      "text/plain": [
       "0    Kermit\n",
       "1     Extra\n",
       "2     Extra\n",
       "3    Fozzie\n",
       "4     Extra\n",
       "dtype: object"
      ]
     },
     "metadata": {},
     "output_type": "display_data"
    }
   ],
   "source": [
    "display(sdemo.fillna(\"Extra\"))"
   ]
  },
  {
   "cell_type": "markdown",
   "metadata": {},
   "source": [
    "## Using isna() and notna() to filter the DataFrame"
   ]
  },
  {
   "cell_type": "code",
   "execution_count": 52,
   "metadata": {},
   "outputs": [
    {
     "data": {
      "text/plain": [
       "0    False\n",
       "1     True\n",
       "2     True\n",
       "3    False\n",
       "4     True\n",
       "dtype: bool"
      ]
     },
     "metadata": {},
     "output_type": "display_data"
    },
    {
     "name": "stdout",
     "output_type": "stream",
     "text": [
      "\n"
     ]
    },
    {
     "data": {
      "text/plain": [
       "0    Kermit\n",
       "3    Fozzie\n",
       "dtype: object"
      ]
     },
     "metadata": {},
     "output_type": "display_data"
    }
   ],
   "source": [
    "display(sdemo.isna())\n",
    "\n",
    "print()\n",
    "\n",
    "display(sdemo[sdemo.notna()])"
   ]
  },
  {
   "cell_type": "markdown",
   "metadata": {},
   "source": [
    "# Getting unique values in a Series"
   ]
  },
  {
   "cell_type": "code",
   "execution_count": 55,
   "metadata": {},
   "outputs": [
    {
     "data": {
      "text/plain": [
       "array(['Kermit', 'Fozzie', 'Piggy'], dtype=object)"
      ]
     },
     "metadata": {},
     "output_type": "display_data"
    }
   ],
   "source": [
    "ser1 = pd.Series([\"Kermit\",\"Fozzie\",\"Kermit\",\"Piggy\",\"Fozzie\"])\n",
    "display(ser1.unique())"
   ]
  },
  {
   "cell_type": "code",
   "execution_count": 61,
   "metadata": {},
   "outputs": [
    {
     "name": "stdout",
     "output_type": "stream",
     "text": [
      "<class 'pandas.core.series.Series'>\n",
      "\n",
      "0    Kermit\n",
      "1    Fozzie\n",
      "2     Piggy\n",
      "dtype: object\n"
     ]
    }
   ],
   "source": [
    "ser2 = pd.Series(ser1.unique()) # To transform back to a Series\n",
    "\n",
    "print(type(ser2),ser2,sep=\"\\n\\n\")"
   ]
  },
  {
   "cell_type": "markdown",
   "metadata": {},
   "source": [
    "# Sorting a Series"
   ]
  },
  {
   "cell_type": "code",
   "execution_count": 65,
   "metadata": {},
   "outputs": [
    {
     "data": {
      "text/plain": [
       "Fozzie    Bear\n",
       "Kermit    Frog\n",
       "Robin     Frog\n",
       "Piggy      Pig\n",
       "dtype: object"
      ]
     },
     "metadata": {},
     "output_type": "display_data"
    }
   ],
   "source": [
    "# Notice here we will sort by the values in the series. \n",
    "# Notice the inplace=True argument. \n",
    "\n",
    "ser1 = pd.Series( {\"Kermit\":\"Frog\",\n",
    "                   \"Piggy\":\"Pig\",\n",
    "                   \"Fozzie\":\"Bear\",\n",
    "                   \"Robin\":\"Frog\"} )\n",
    "\n",
    "ser1.sort_values(ascending=True,inplace=True)\n",
    "display(ser1)"
   ]
  },
  {
   "cell_type": "code",
   "execution_count": 66,
   "metadata": {},
   "outputs": [
    {
     "data": {
      "text/plain": [
       "Robin     Frog\n",
       "Piggy      Pig\n",
       "Kermit    Frog\n",
       "Fozzie    Bear\n",
       "dtype: object"
      ]
     },
     "metadata": {},
     "output_type": "display_data"
    }
   ],
   "source": [
    "# Here instead of values we are sorting by index.\n",
    "\n",
    "ser2 = ser1.sort_index(ascending=False)\n",
    "display(ser2)"
   ]
  },
  {
   "cell_type": "markdown",
   "metadata": {},
   "source": [
    "# Changing Series Values I: Adding, Multiplying, etc..."
   ]
  },
  {
   "cell_type": "code",
   "execution_count": 68,
   "metadata": {},
   "outputs": [
    {
     "data": {
      "text/plain": [
       "0     2.0\n",
       "1     NaN\n",
       "2    14.0\n",
       "dtype: float64"
      ]
     },
     "metadata": {},
     "output_type": "display_data"
    },
    {
     "data": {
      "text/plain": [
       "0    -2.0\n",
       "1     NaN\n",
       "2    10.0\n",
       "dtype: float64"
      ]
     },
     "metadata": {},
     "output_type": "display_data"
    }
   ],
   "source": [
    "import numpy as np \n",
    "ser1 = pd.Series([1,np.NaN,7])\n",
    "\n",
    "# See how each value is doubled, not the series is duplicated.\n",
    "ser1 = ser1*2\n",
    "display(ser1)\n",
    "\n",
    "# Similarly how each value has four subtracted. \n",
    "ser1 = ser1-4\n",
    "display(ser1)"
   ]
  },
  {
   "cell_type": "code",
   "execution_count": 72,
   "metadata": {},
   "outputs": [
    {
     "name": "stdout",
     "output_type": "stream",
     "text": [
      "If you try to add a character to a number it will throw an Error. It will not concatenate them.\n"
     ]
    }
   ],
   "source": [
    "try: \n",
    "    ser1 = ser1 + \"A\" #Note that the Series is full of numbers so it throws an error\n",
    "except TypeError: \n",
    "    print(\"If you try to add a character to a number it will throw an Error. It will not concatenate them.\")"
   ]
  },
  {
   "cell_type": "code",
   "execution_count": 74,
   "metadata": {},
   "outputs": [
    {
     "data": {
      "text/plain": [
       "0    Kermit the Muppet\n",
       "1     Piggy the Muppet\n",
       "2    Fozzie the Muppet\n",
       "dtype: object"
      ]
     },
     "metadata": {},
     "output_type": "display_data"
    }
   ],
   "source": [
    "# This is a series full of strings so the concatenation works\n",
    "ser2 = pd.Series([\"Kermit\",\"Piggy\",\"Fozzie\"])\n",
    "ser2 = ser2 + \" the Muppet\"\n",
    "display(ser2)"
   ]
  },
  {
   "cell_type": "markdown",
   "metadata": {},
   "source": [
    "# Changing Series Values II: Recoding values using Map"
   ]
  },
  {
   "cell_type": "code",
   "execution_count": 75,
   "metadata": {},
   "outputs": [
    {
     "name": "stdout",
     "output_type": "stream",
     "text": [
      "['Male' 'Woman' 'Female' 'Man' 'Male (sex)' 'Female ']\n"
     ]
    }
   ],
   "source": [
    "import pandas as pd \n",
    "\n",
    "example_gender_list = ['Male', \n",
    "                       \"Woman\", \n",
    "                       \"Female\", \n",
    "                       \"Female\", \n",
    "                       'Male', \n",
    "                       'Man', \n",
    "                       'Male (sex)', \n",
    "                       \"Woman\", \n",
    "                       'Male (sex)',\n",
    "                       \"Female\", \n",
    "                       \"Female \"]\n",
    "\n",
    "gender_series = pd.Series(example_gender_list)\n",
    "print(gender_series.unique())"
   ]
  },
  {
   "cell_type": "code",
   "execution_count": 77,
   "metadata": {},
   "outputs": [
    {
     "name": "stdout",
     "output_type": "stream",
     "text": [
      "0     M\n",
      "1     F\n",
      "2     F\n",
      "3     F\n",
      "4     M\n",
      "5     M\n",
      "6     M\n",
      "7     F\n",
      "8     M\n",
      "9     F\n",
      "10    F\n",
      "dtype: object\n",
      "\n",
      "F    6\n",
      "M    5\n",
      "dtype: int64\n"
     ]
    }
   ],
   "source": [
    "gender_recode_dict = {\"Male\":\"M\", \n",
    "                 \"Man\":\"M\",\n",
    "                 \"Male (sex)\": \"M\",\n",
    "                 \"Woman\":\"F\",\n",
    "                 \"Female\":\"F\",\n",
    "                 \"Female \":\"F\"}\n",
    "\n",
    "gender_recode = gender_series.map(gender_recode_dict)\n",
    "\n",
    "print(gender_recode)\n",
    "print()\n",
    "print(gender_recode.value_counts())"
   ]
  },
  {
   "cell_type": "markdown",
   "metadata": {},
   "source": [
    "# Changing Series Values III: Defining your own recode using Lambda"
   ]
  },
  {
   "cell_type": "code",
   "execution_count": 78,
   "metadata": {},
   "outputs": [
    {
     "data": {
      "text/plain": [
       "one       1\n",
       "three     9\n",
       "five     25\n",
       "dtype: int64"
      ]
     },
     "metadata": {},
     "output_type": "display_data"
    }
   ],
   "source": [
    "ser1 = pd.Series([1,3,5],index=[\"one\",\"three\",\"five\"]) \n",
    "ser1 = ser1.map(lambda val: val**2)\n",
    "display(ser1)"
   ]
  },
  {
   "cell_type": "code",
   "execution_count": 92,
   "metadata": {},
   "outputs": [
    {
     "data": {
      "text/plain": [
       "0     True\n",
       "1     True\n",
       "2    False\n",
       "3     True\n",
       "dtype: bool"
      ]
     },
     "metadata": {},
     "output_type": "display_data"
    }
   ],
   "source": [
    "def has_email(TEXT): \n",
    "    import re\n",
    "    # This is the function that we didn't cover, it is very complicated. \n",
    "    # You can see more regex examples in Chapter XX\n",
    "    file_email = re.compile(r\"[a-zA-Z0-9.!#$%&'*+/=?^_`{|}~-]+@[a-zA-Z0-9](?:[a-zA-Z0-9-]{0,61}[a-zA-Z0-9])?(?:\\.[a-zA-Z0-9](?:[a-zA-Z0-9-]{0,61}[a-zA-Z0-9])?)*\")\n",
    "    if re.search(file_email, TEXT): return True\n",
    "    else: return False\n",
    "    \n",
    "    \n",
    "smessages = pd.Series([\"Hey, catch me at bernie.hogan@oii.ox.ac.uk\", \n",
    "                       \"I once emailed steve@apple.com and got a reply\", \n",
    "                       \"I don't really use email\",\n",
    "                       \"Is test@example a valid email?\"])\n",
    "\n",
    "result = smessages.map(lambda x: has_email(x)) \n",
    "\n",
    "display(result) "
   ]
  },
  {
   "cell_type": "markdown",
   "metadata": {},
   "source": [
    "The important thing to understand here is how lambda works. I would not worry about that regular expression, nor would I even be able to draft that on my own. It comes from the W3C spec for email addresses [featured here](https://html.spec.whatwg.org/multipage/input.html#valid-e-mail-address)"
   ]
  },
  {
   "cell_type": "markdown",
   "metadata": {},
   "source": [
    "# From Series to DataFrame \n",
    "\n"
   ]
  },
  {
   "cell_type": "code",
   "execution_count": 94,
   "metadata": {},
   "outputs": [
    {
     "data": {
      "text/plain": [
       "Kermit     Frog\n",
       "Fozzie     Bear\n",
       "Janice    Hippy\n",
       "dtype: object"
      ]
     },
     "metadata": {},
     "output_type": "display_data"
    }
   ],
   "source": [
    "import pandas as pd \n",
    "\n",
    "ser1 = pd.Series({\"Kermit\":\"Frog\", \"Fozzie\":\"Bear\", \"Janice\":\"Hippy\"})\n",
    "\n",
    "display(ser1)"
   ]
  },
  {
   "cell_type": "code",
   "execution_count": 95,
   "metadata": {},
   "outputs": [
    {
     "data": {
      "text/html": [
       "<div>\n",
       "<style scoped>\n",
       "    .dataframe tbody tr th:only-of-type {\n",
       "        vertical-align: middle;\n",
       "    }\n",
       "\n",
       "    .dataframe tbody tr th {\n",
       "        vertical-align: top;\n",
       "    }\n",
       "\n",
       "    .dataframe thead th {\n",
       "        text-align: right;\n",
       "    }\n",
       "</style>\n",
       "<table border=\"1\" class=\"dataframe\">\n",
       "  <thead>\n",
       "    <tr style=\"text-align: right;\">\n",
       "      <th></th>\n",
       "      <th>0</th>\n",
       "    </tr>\n",
       "  </thead>\n",
       "  <tbody>\n",
       "    <tr>\n",
       "      <th>Kermit</th>\n",
       "      <td>Frog</td>\n",
       "    </tr>\n",
       "    <tr>\n",
       "      <th>Fozzie</th>\n",
       "      <td>Bear</td>\n",
       "    </tr>\n",
       "    <tr>\n",
       "      <th>Janice</th>\n",
       "      <td>Hippy</td>\n",
       "    </tr>\n",
       "  </tbody>\n",
       "</table>\n",
       "</div>"
      ],
      "text/plain": [
       "            0\n",
       "Kermit   Frog\n",
       "Fozzie   Bear\n",
       "Janice  Hippy"
      ]
     },
     "metadata": {},
     "output_type": "display_data"
    }
   ],
   "source": [
    "df1 = pd.DataFrame(ser1)\n",
    "\n",
    "display(df1)"
   ]
  },
  {
   "cell_type": "code",
   "execution_count": 96,
   "metadata": {},
   "outputs": [
    {
     "data": {
      "text/html": [
       "<div>\n",
       "<style scoped>\n",
       "    .dataframe tbody tr th:only-of-type {\n",
       "        vertical-align: middle;\n",
       "    }\n",
       "\n",
       "    .dataframe tbody tr th {\n",
       "        vertical-align: top;\n",
       "    }\n",
       "\n",
       "    .dataframe thead th {\n",
       "        text-align: right;\n",
       "    }\n",
       "</style>\n",
       "<table border=\"1\" class=\"dataframe\">\n",
       "  <thead>\n",
       "    <tr style=\"text-align: right;\">\n",
       "      <th></th>\n",
       "      <th>MuppetType</th>\n",
       "    </tr>\n",
       "  </thead>\n",
       "  <tbody>\n",
       "    <tr>\n",
       "      <th>Kermit</th>\n",
       "      <td>Frog</td>\n",
       "    </tr>\n",
       "    <tr>\n",
       "      <th>Fozzie</th>\n",
       "      <td>Bear</td>\n",
       "    </tr>\n",
       "    <tr>\n",
       "      <th>Janice</th>\n",
       "      <td>Hippy</td>\n",
       "    </tr>\n",
       "  </tbody>\n",
       "</table>\n",
       "</div>"
      ],
      "text/plain": [
       "       MuppetType\n",
       "Kermit       Frog\n",
       "Fozzie       Bear\n",
       "Janice      Hippy"
      ]
     },
     "metadata": {},
     "output_type": "display_data"
    }
   ],
   "source": [
    "ser1 = pd.Series({\"Kermit\":\"Frog\", \"Fozzie\":\"Bear\", \"Janice\":\"Hippy\"}, name=\"MuppetType\")\n",
    "\n",
    "df1 = pd.DataFrame(ser1)\n",
    "\n",
    "display(df1)"
   ]
  },
  {
   "cell_type": "code",
   "execution_count": 97,
   "metadata": {},
   "outputs": [
    {
     "data": {
      "text/html": [
       "<div>\n",
       "<style scoped>\n",
       "    .dataframe tbody tr th:only-of-type {\n",
       "        vertical-align: middle;\n",
       "    }\n",
       "\n",
       "    .dataframe tbody tr th {\n",
       "        vertical-align: top;\n",
       "    }\n",
       "\n",
       "    .dataframe thead th {\n",
       "        text-align: right;\n",
       "    }\n",
       "</style>\n",
       "<table border=\"1\" class=\"dataframe\">\n",
       "  <thead>\n",
       "    <tr style=\"text-align: right;\">\n",
       "      <th></th>\n",
       "      <th>NewColumnName</th>\n",
       "    </tr>\n",
       "  </thead>\n",
       "  <tbody>\n",
       "    <tr>\n",
       "      <th>Kermit</th>\n",
       "      <td>Frog</td>\n",
       "    </tr>\n",
       "    <tr>\n",
       "      <th>Fozzie</th>\n",
       "      <td>Bear</td>\n",
       "    </tr>\n",
       "    <tr>\n",
       "      <th>Janice</th>\n",
       "      <td>Hippy</td>\n",
       "    </tr>\n",
       "  </tbody>\n",
       "</table>\n",
       "</div>"
      ],
      "text/plain": [
       "       NewColumnName\n",
       "Kermit          Frog\n",
       "Fozzie          Bear\n",
       "Janice         Hippy"
      ]
     },
     "metadata": {},
     "output_type": "display_data"
    }
   ],
   "source": [
    "df1.columns = [\"NewColumnName\"]\n",
    "\n",
    "display(df1)"
   ]
  },
  {
   "cell_type": "markdown",
   "metadata": {},
   "source": [
    "# Getting Data in to a DataFrames"
   ]
  },
  {
   "cell_type": "markdown",
   "metadata": {},
   "source": [
    "## From a list of lists "
   ]
  },
  {
   "cell_type": "code",
   "execution_count": 98,
   "metadata": {},
   "outputs": [
    {
     "data": {
      "text/html": [
       "<div>\n",
       "<style scoped>\n",
       "    .dataframe tbody tr th:only-of-type {\n",
       "        vertical-align: middle;\n",
       "    }\n",
       "\n",
       "    .dataframe tbody tr th {\n",
       "        vertical-align: top;\n",
       "    }\n",
       "\n",
       "    .dataframe thead th {\n",
       "        text-align: right;\n",
       "    }\n",
       "</style>\n",
       "<table border=\"1\" class=\"dataframe\">\n",
       "  <thead>\n",
       "    <tr style=\"text-align: right;\">\n",
       "      <th></th>\n",
       "      <th>0</th>\n",
       "      <th>1</th>\n",
       "      <th>2</th>\n",
       "      <th>3</th>\n",
       "    </tr>\n",
       "  </thead>\n",
       "  <tbody>\n",
       "    <tr>\n",
       "      <th>0</th>\n",
       "      <td>Kermit</td>\n",
       "      <td>Frog</td>\n",
       "      <td>1955</td>\n",
       "      <td>Male</td>\n",
       "    </tr>\n",
       "    <tr>\n",
       "      <th>1</th>\n",
       "      <td>Miss Piggy</td>\n",
       "      <td>Pig</td>\n",
       "      <td>1974</td>\n",
       "      <td>Female</td>\n",
       "    </tr>\n",
       "    <tr>\n",
       "      <th>2</th>\n",
       "      <td>Gonzo</td>\n",
       "      <td>Unknown</td>\n",
       "      <td>1970</td>\n",
       "      <td>Male</td>\n",
       "    </tr>\n",
       "  </tbody>\n",
       "</table>\n",
       "</div>"
      ],
      "text/plain": [
       "            0        1     2       3\n",
       "0      Kermit     Frog  1955    Male\n",
       "1  Miss Piggy      Pig  1974  Female\n",
       "2       Gonzo  Unknown  1970    Male"
      ]
     },
     "metadata": {},
     "output_type": "display_data"
    }
   ],
   "source": [
    "muppetList = [[\"Kermit\",\"Frog\",1955,\"Male\"], \n",
    "              [\"Miss Piggy\", \"Pig\", 1974, \"Female\"], \n",
    "              [\"Gonzo\", \"Unknown\", 1970, \"Male\"]]\n",
    "\n",
    "muppetFrame1 = pd.DataFrame(muppetList)\n",
    "display(muppetFrame1)"
   ]
  },
  {
   "cell_type": "code",
   "execution_count": 99,
   "metadata": {},
   "outputs": [
    {
     "data": {
      "text/html": [
       "<div>\n",
       "<style scoped>\n",
       "    .dataframe tbody tr th:only-of-type {\n",
       "        vertical-align: middle;\n",
       "    }\n",
       "\n",
       "    .dataframe tbody tr th {\n",
       "        vertical-align: top;\n",
       "    }\n",
       "\n",
       "    .dataframe thead th {\n",
       "        text-align: right;\n",
       "    }\n",
       "</style>\n",
       "<table border=\"1\" class=\"dataframe\">\n",
       "  <thead>\n",
       "    <tr style=\"text-align: right;\">\n",
       "      <th></th>\n",
       "      <th>1</th>\n",
       "      <th>2</th>\n",
       "      <th>3</th>\n",
       "    </tr>\n",
       "    <tr>\n",
       "      <th>0</th>\n",
       "      <th></th>\n",
       "      <th></th>\n",
       "      <th></th>\n",
       "    </tr>\n",
       "  </thead>\n",
       "  <tbody>\n",
       "    <tr>\n",
       "      <th>Kermit</th>\n",
       "      <td>Frog</td>\n",
       "      <td>1955</td>\n",
       "      <td>Male</td>\n",
       "    </tr>\n",
       "    <tr>\n",
       "      <th>Miss Piggy</th>\n",
       "      <td>Pig</td>\n",
       "      <td>1974</td>\n",
       "      <td>Female</td>\n",
       "    </tr>\n",
       "    <tr>\n",
       "      <th>Gonzo</th>\n",
       "      <td>Unknown</td>\n",
       "      <td>1970</td>\n",
       "      <td>Male</td>\n",
       "    </tr>\n",
       "  </tbody>\n",
       "</table>\n",
       "</div>"
      ],
      "text/plain": [
       "                  1     2       3\n",
       "0                                \n",
       "Kermit         Frog  1955    Male\n",
       "Miss Piggy      Pig  1974  Female\n",
       "Gonzo       Unknown  1970    Male"
      ]
     },
     "metadata": {},
     "output_type": "display_data"
    }
   ],
   "source": [
    "muppetFrame1.set_index(0, inplace=True)\n",
    "display(muppetFrame1)"
   ]
  },
  {
   "cell_type": "code",
   "execution_count": 102,
   "metadata": {},
   "outputs": [
    {
     "data": {
      "text/html": [
       "<div>\n",
       "<style scoped>\n",
       "    .dataframe tbody tr th:only-of-type {\n",
       "        vertical-align: middle;\n",
       "    }\n",
       "\n",
       "    .dataframe tbody tr th {\n",
       "        vertical-align: top;\n",
       "    }\n",
       "\n",
       "    .dataframe thead th {\n",
       "        text-align: right;\n",
       "    }\n",
       "</style>\n",
       "<table border=\"1\" class=\"dataframe\">\n",
       "  <thead>\n",
       "    <tr style=\"text-align: right;\">\n",
       "      <th></th>\n",
       "      <th>MuppetType</th>\n",
       "    </tr>\n",
       "  </thead>\n",
       "  <tbody>\n",
       "    <tr>\n",
       "      <th>Kermit</th>\n",
       "      <td>Frog</td>\n",
       "    </tr>\n",
       "    <tr>\n",
       "      <th>Fozzie</th>\n",
       "      <td>Bear</td>\n",
       "    </tr>\n",
       "    <tr>\n",
       "      <th>Janice</th>\n",
       "      <td>Hippy</td>\n",
       "    </tr>\n",
       "  </tbody>\n",
       "</table>\n",
       "</div>"
      ],
      "text/plain": [
       "       MuppetType\n",
       "Kermit       Frog\n",
       "Fozzie       Bear\n",
       "Janice      Hippy"
      ]
     },
     "metadata": {},
     "output_type": "display_data"
    }
   ],
   "source": [
    "df_orient_index = pd.DataFrame.from_dict({\"Kermit\":\"Frog\", \"Fozzie\":\"Bear\", \"Janice\":\"Hippy\"},orient=\"index\",columns=[\"MuppetType\"])\n",
    "\n",
    "display(df_orient_index)"
   ]
  },
  {
   "cell_type": "code",
   "execution_count": 103,
   "metadata": {},
   "outputs": [
    {
     "data": {
      "text/html": [
       "<div>\n",
       "<style scoped>\n",
       "    .dataframe tbody tr th:only-of-type {\n",
       "        vertical-align: middle;\n",
       "    }\n",
       "\n",
       "    .dataframe tbody tr th {\n",
       "        vertical-align: top;\n",
       "    }\n",
       "\n",
       "    .dataframe thead th {\n",
       "        text-align: right;\n",
       "    }\n",
       "</style>\n",
       "<table border=\"1\" class=\"dataframe\">\n",
       "  <thead>\n",
       "    <tr style=\"text-align: right;\">\n",
       "      <th></th>\n",
       "      <th>Kermit</th>\n",
       "      <th>Fozzie</th>\n",
       "      <th>Janice</th>\n",
       "    </tr>\n",
       "  </thead>\n",
       "  <tbody>\n",
       "    <tr>\n",
       "      <th>0</th>\n",
       "      <td>Frog</td>\n",
       "      <td>Bear</td>\n",
       "      <td>Hippy</td>\n",
       "    </tr>\n",
       "  </tbody>\n",
       "</table>\n",
       "</div>"
      ],
      "text/plain": [
       "  Kermit Fozzie Janice\n",
       "0   Frog   Bear  Hippy"
      ]
     },
     "metadata": {},
     "output_type": "display_data"
    }
   ],
   "source": [
    "df_orient_columns = pd.DataFrame.from_dict({\"Kermit\":[\"Frog\"], \"Fozzie\":[\"Bear\"], \"Janice\":[\"Hippy\"]},orient=\"columns\")#,columns=[\"MuppetType\"])\n",
    "\n",
    "display(df_orient_columns)"
   ]
  },
  {
   "cell_type": "markdown",
   "metadata": {},
   "source": [
    "# A DataFrame from a dictionary"
   ]
  },
  {
   "cell_type": "code",
   "execution_count": 104,
   "metadata": {},
   "outputs": [
    {
     "data": {
      "text/html": [
       "<div>\n",
       "<style scoped>\n",
       "    .dataframe tbody tr th:only-of-type {\n",
       "        vertical-align: middle;\n",
       "    }\n",
       "\n",
       "    .dataframe tbody tr th {\n",
       "        vertical-align: top;\n",
       "    }\n",
       "\n",
       "    .dataframe thead th {\n",
       "        text-align: right;\n",
       "    }\n",
       "</style>\n",
       "<table border=\"1\" class=\"dataframe\">\n",
       "  <thead>\n",
       "    <tr style=\"text-align: right;\">\n",
       "      <th></th>\n",
       "      <th>0</th>\n",
       "      <th>1</th>\n",
       "      <th>2</th>\n",
       "    </tr>\n",
       "  </thead>\n",
       "  <tbody>\n",
       "    <tr>\n",
       "      <th>Kermit</th>\n",
       "      <td>Frog</td>\n",
       "      <td>1955</td>\n",
       "      <td>Male</td>\n",
       "    </tr>\n",
       "    <tr>\n",
       "      <th>Miss Piggy</th>\n",
       "      <td>Pig</td>\n",
       "      <td>1974</td>\n",
       "      <td>Female</td>\n",
       "    </tr>\n",
       "    <tr>\n",
       "      <th>Gonzo</th>\n",
       "      <td>Unknown</td>\n",
       "      <td>1970</td>\n",
       "      <td>Male</td>\n",
       "    </tr>\n",
       "  </tbody>\n",
       "</table>\n",
       "</div>"
      ],
      "text/plain": [
       "                  0     1       2\n",
       "Kermit         Frog  1955    Male\n",
       "Miss Piggy      Pig  1974  Female\n",
       "Gonzo       Unknown  1970    Male"
      ]
     },
     "metadata": {},
     "output_type": "display_data"
    }
   ],
   "source": [
    "muppetDict = {\"Kermit\": [\"Frog\",1955,\"Male\"], \n",
    "              \"Miss Piggy\":[\"Pig\", 1974, \"Female\"], \n",
    "              \"Gonzo\": [\"Unknown\", 1970, \"Male\"]}\n",
    "\n",
    "muppetFrame2 = pd.DataFrame.from_dict(muppetDict,orient=\"index\")\n",
    "display(muppetFrame2)"
   ]
  },
  {
   "cell_type": "code",
   "execution_count": 105,
   "metadata": {},
   "outputs": [
    {
     "data": {
      "text/html": [
       "<div>\n",
       "<style scoped>\n",
       "    .dataframe tbody tr th:only-of-type {\n",
       "        vertical-align: middle;\n",
       "    }\n",
       "\n",
       "    .dataframe tbody tr th {\n",
       "        vertical-align: top;\n",
       "    }\n",
       "\n",
       "    .dataframe thead th {\n",
       "        text-align: right;\n",
       "    }\n",
       "</style>\n",
       "<table border=\"1\" class=\"dataframe\">\n",
       "  <thead>\n",
       "    <tr style=\"text-align: right;\">\n",
       "      <th></th>\n",
       "      <th>MuppetType</th>\n",
       "      <th>MuppetYear</th>\n",
       "    </tr>\n",
       "  </thead>\n",
       "  <tbody>\n",
       "    <tr>\n",
       "      <th>Kermit</th>\n",
       "      <td>Frog</td>\n",
       "      <td>1955</td>\n",
       "    </tr>\n",
       "    <tr>\n",
       "      <th>Miss Piggy</th>\n",
       "      <td>Pig</td>\n",
       "      <td>1974</td>\n",
       "    </tr>\n",
       "    <tr>\n",
       "      <th>Gonzo</th>\n",
       "      <td>Unknown</td>\n",
       "      <td>1970</td>\n",
       "    </tr>\n",
       "  </tbody>\n",
       "</table>\n",
       "</div>"
      ],
      "text/plain": [
       "           MuppetType  MuppetYear\n",
       "Kermit           Frog        1955\n",
       "Miss Piggy        Pig        1974\n",
       "Gonzo         Unknown        1970"
      ]
     },
     "metadata": {},
     "output_type": "display_data"
    }
   ],
   "source": [
    "muppetFrame3 = pd.DataFrame.from_dict({\"Kermit\":\"Frog\", \"Miss Piggy\":\"Pig\", \"Gonzo\":\"Unknown\"},orient=\"index\",columns=[\"MuppetType\"])\n",
    "\n",
    "muppet_year = pd.Series({\"Gonzo\":1970,\"Kermit\":1955,\"Miss Piggy\":1974})\n",
    "\n",
    "muppetFrame3[\"MuppetYear\"] = muppet_year\n",
    "\n",
    "display(muppetFrame3)"
   ]
  },
  {
   "cell_type": "code",
   "execution_count": 106,
   "metadata": {},
   "outputs": [
    {
     "data": {
      "text/html": [
       "<div>\n",
       "<style scoped>\n",
       "    .dataframe tbody tr th:only-of-type {\n",
       "        vertical-align: middle;\n",
       "    }\n",
       "\n",
       "    .dataframe tbody tr th {\n",
       "        vertical-align: top;\n",
       "    }\n",
       "\n",
       "    .dataframe thead th {\n",
       "        text-align: right;\n",
       "    }\n",
       "</style>\n",
       "<table border=\"1\" class=\"dataframe\">\n",
       "  <thead>\n",
       "    <tr style=\"text-align: right;\">\n",
       "      <th></th>\n",
       "      <th>MuppetType</th>\n",
       "      <th>MuppetYear</th>\n",
       "      <th>MuppetGender</th>\n",
       "    </tr>\n",
       "  </thead>\n",
       "  <tbody>\n",
       "    <tr>\n",
       "      <th>Kermit</th>\n",
       "      <td>Frog</td>\n",
       "      <td>1955</td>\n",
       "      <td>male</td>\n",
       "    </tr>\n",
       "    <tr>\n",
       "      <th>Miss Piggy</th>\n",
       "      <td>Pig</td>\n",
       "      <td>1974</td>\n",
       "      <td>female</td>\n",
       "    </tr>\n",
       "    <tr>\n",
       "      <th>Gonzo</th>\n",
       "      <td>Unknown</td>\n",
       "      <td>1970</td>\n",
       "      <td>male</td>\n",
       "    </tr>\n",
       "  </tbody>\n",
       "</table>\n",
       "</div>"
      ],
      "text/plain": [
       "           MuppetType  MuppetYear MuppetGender\n",
       "Kermit           Frog        1955         male\n",
       "Miss Piggy        Pig        1974       female\n",
       "Gonzo         Unknown        1970         male"
      ]
     },
     "metadata": {},
     "output_type": "display_data"
    }
   ],
   "source": [
    "muppet_gender = [\"male\",\"female\",\"male\"]\n",
    "\n",
    "muppetFrame3[\"MuppetGender\"] = muppet_gender\n",
    "\n",
    "display(muppetFrame3)"
   ]
  },
  {
   "cell_type": "code",
   "execution_count": 107,
   "metadata": {},
   "outputs": [
    {
     "data": {
      "text/html": [
       "<div>\n",
       "<style scoped>\n",
       "    .dataframe tbody tr th:only-of-type {\n",
       "        vertical-align: middle;\n",
       "    }\n",
       "\n",
       "    .dataframe tbody tr th {\n",
       "        vertical-align: top;\n",
       "    }\n",
       "\n",
       "    .dataframe thead th {\n",
       "        text-align: right;\n",
       "    }\n",
       "</style>\n",
       "<table border=\"1\" class=\"dataframe\">\n",
       "  <thead>\n",
       "    <tr style=\"text-align: right;\">\n",
       "      <th></th>\n",
       "      <th>MuppetType</th>\n",
       "      <th>MuppetYear</th>\n",
       "      <th>MuppetGender</th>\n",
       "      <th>MuppetDecade</th>\n",
       "    </tr>\n",
       "  </thead>\n",
       "  <tbody>\n",
       "    <tr>\n",
       "      <th>Kermit</th>\n",
       "      <td>Frog</td>\n",
       "      <td>1955</td>\n",
       "      <td>male</td>\n",
       "      <td>1950</td>\n",
       "    </tr>\n",
       "    <tr>\n",
       "      <th>Miss Piggy</th>\n",
       "      <td>Pig</td>\n",
       "      <td>1974</td>\n",
       "      <td>female</td>\n",
       "      <td>1970</td>\n",
       "    </tr>\n",
       "    <tr>\n",
       "      <th>Gonzo</th>\n",
       "      <td>Unknown</td>\n",
       "      <td>1970</td>\n",
       "      <td>male</td>\n",
       "      <td>1970</td>\n",
       "    </tr>\n",
       "  </tbody>\n",
       "</table>\n",
       "</div>"
      ],
      "text/plain": [
       "           MuppetType  MuppetYear MuppetGender  MuppetDecade\n",
       "Kermit           Frog        1955         male          1950\n",
       "Miss Piggy        Pig        1974       female          1970\n",
       "Gonzo         Unknown        1970         male          1970"
      ]
     },
     "metadata": {},
     "output_type": "display_data"
    }
   ],
   "source": [
    "muppetFrame3[\"MuppetDecade\"] = muppetFrame3[\"MuppetYear\"].map(lambda x: (x // 10)*10)\n",
    "\n",
    "display(muppetFrame3)\n",
    "\n",
    "muppetdf = muppetFrame3 "
   ]
  },
  {
   "cell_type": "markdown",
   "metadata": {},
   "source": [
    "# Returning Data from a DataFrame: Querying and Slicing"
   ]
  },
  {
   "cell_type": "code",
   "execution_count": 108,
   "metadata": {},
   "outputs": [
    {
     "name": "stdout",
     "output_type": "stream",
     "text": [
      "MuppetType      Unknown\n",
      "MuppetYear         1970\n",
      "MuppetGender       male\n",
      "MuppetDecade       1970\n",
      "Name: Gonzo, dtype: object\n"
     ]
    }
   ],
   "source": [
    "print(muppetdf.loc[\"Gonzo\"])"
   ]
  },
  {
   "cell_type": "code",
   "execution_count": 109,
   "metadata": {},
   "outputs": [
    {
     "name": "stdout",
     "output_type": "stream",
     "text": [
      "MuppetType      Unknown\n",
      "MuppetYear         1970\n",
      "MuppetGender       male\n",
      "MuppetDecade       1970\n",
      "Name: Gonzo, dtype: object\n"
     ]
    }
   ],
   "source": [
    "print(muppetdf.iloc[2])"
   ]
  },
  {
   "cell_type": "code",
   "execution_count": 111,
   "metadata": {},
   "outputs": [],
   "source": [
    "# xx.toDo -> examples of select item queries"
   ]
  },
  {
   "cell_type": "markdown",
   "metadata": {},
   "source": [
    "## Returning a slice of data"
   ]
  },
  {
   "cell_type": "code",
   "execution_count": 113,
   "metadata": {},
   "outputs": [
    {
     "data": {
      "text/plain": [
       "Kermit        False\n",
       "Miss Piggy     True\n",
       "Gonzo          True\n",
       "Name: MuppetYear, dtype: bool"
      ]
     },
     "execution_count": 113,
     "metadata": {},
     "output_type": "execute_result"
    }
   ],
   "source": [
    "muppetdf[\"MuppetYear\"] > 1967"
   ]
  },
  {
   "cell_type": "code",
   "execution_count": 114,
   "metadata": {},
   "outputs": [
    {
     "data": {
      "text/html": [
       "<div>\n",
       "<style scoped>\n",
       "    .dataframe tbody tr th:only-of-type {\n",
       "        vertical-align: middle;\n",
       "    }\n",
       "\n",
       "    .dataframe tbody tr th {\n",
       "        vertical-align: top;\n",
       "    }\n",
       "\n",
       "    .dataframe thead th {\n",
       "        text-align: right;\n",
       "    }\n",
       "</style>\n",
       "<table border=\"1\" class=\"dataframe\">\n",
       "  <thead>\n",
       "    <tr style=\"text-align: right;\">\n",
       "      <th></th>\n",
       "      <th>MuppetType</th>\n",
       "      <th>MuppetYear</th>\n",
       "      <th>MuppetGender</th>\n",
       "      <th>MuppetDecade</th>\n",
       "    </tr>\n",
       "  </thead>\n",
       "  <tbody>\n",
       "    <tr>\n",
       "      <th>Miss Piggy</th>\n",
       "      <td>Pig</td>\n",
       "      <td>1974</td>\n",
       "      <td>female</td>\n",
       "      <td>1970</td>\n",
       "    </tr>\n",
       "    <tr>\n",
       "      <th>Gonzo</th>\n",
       "      <td>Unknown</td>\n",
       "      <td>1970</td>\n",
       "      <td>male</td>\n",
       "      <td>1970</td>\n",
       "    </tr>\n",
       "  </tbody>\n",
       "</table>\n",
       "</div>"
      ],
      "text/plain": [
       "           MuppetType  MuppetYear MuppetGender  MuppetDecade\n",
       "Miss Piggy        Pig        1974       female          1970\n",
       "Gonzo         Unknown        1970         male          1970"
      ]
     },
     "execution_count": 114,
     "metadata": {},
     "output_type": "execute_result"
    }
   ],
   "source": [
    "muppetdf[muppetdf[\"MuppetYear\"] > 1967]"
   ]
  },
  {
   "cell_type": "code",
   "execution_count": 115,
   "metadata": {},
   "outputs": [
    {
     "name": "stderr",
     "output_type": "stream",
     "text": [
      "/Users/crafty/anaconda3/lib/python3.7/site-packages/ipykernel_launcher.py:4: SettingWithCopyWarning: \n",
      "A value is trying to be set on a copy of a slice from a DataFrame\n",
      "\n",
      "See the caveats in the documentation: http://pandas.pydata.org/pandas-docs/stable/indexing.html#indexing-view-versus-copy\n",
      "  after removing the cwd from sys.path.\n"
     ]
    }
   ],
   "source": [
    "# Exploring deep versus shallow copies \n",
    "\n",
    "# Attempt 1 (which will fail)\n",
    "muppetdf.loc[\"Gonzo\"][\"MuppetType\"] = \"weirdo\""
   ]
  },
  {
   "cell_type": "code",
   "execution_count": 118,
   "metadata": {},
   "outputs": [
    {
     "data": {
      "text/html": [
       "<div>\n",
       "<style scoped>\n",
       "    .dataframe tbody tr th:only-of-type {\n",
       "        vertical-align: middle;\n",
       "    }\n",
       "\n",
       "    .dataframe tbody tr th {\n",
       "        vertical-align: top;\n",
       "    }\n",
       "\n",
       "    .dataframe thead th {\n",
       "        text-align: right;\n",
       "    }\n",
       "</style>\n",
       "<table border=\"1\" class=\"dataframe\">\n",
       "  <thead>\n",
       "    <tr style=\"text-align: right;\">\n",
       "      <th></th>\n",
       "      <th>MuppetType</th>\n",
       "      <th>MuppetYear</th>\n",
       "      <th>MuppetGender</th>\n",
       "      <th>MuppetDecade</th>\n",
       "    </tr>\n",
       "  </thead>\n",
       "  <tbody>\n",
       "    <tr>\n",
       "      <th>Kermit</th>\n",
       "      <td>Frog</td>\n",
       "      <td>1955</td>\n",
       "      <td>male</td>\n",
       "      <td>1950</td>\n",
       "    </tr>\n",
       "    <tr>\n",
       "      <th>Miss Piggy</th>\n",
       "      <td>Pig</td>\n",
       "      <td>1974</td>\n",
       "      <td>female</td>\n",
       "      <td>1970</td>\n",
       "    </tr>\n",
       "    <tr>\n",
       "      <th>Gonzo</th>\n",
       "      <td>Weirdo</td>\n",
       "      <td>1970</td>\n",
       "      <td>male</td>\n",
       "      <td>1970</td>\n",
       "    </tr>\n",
       "  </tbody>\n",
       "</table>\n",
       "</div>"
      ],
      "text/plain": [
       "           MuppetType  MuppetYear MuppetGender  MuppetDecade\n",
       "Kermit           Frog        1955         male          1950\n",
       "Miss Piggy        Pig        1974       female          1970\n",
       "Gonzo          Weirdo        1970         male          1970"
      ]
     },
     "metadata": {},
     "output_type": "display_data"
    }
   ],
   "source": [
    "# Attempt 2 (which will succeed)\n",
    "muppetdf.loc[\"Gonzo\",\"MuppetType\"] = \"Weirdo\"\n",
    "display(muppetdf)"
   ]
  },
  {
   "cell_type": "code",
   "execution_count": 119,
   "metadata": {},
   "outputs": [
    {
     "data": {
      "text/plain": [
       "'Lizard'"
      ]
     },
     "metadata": {},
     "output_type": "display_data"
    }
   ],
   "source": [
    "newmuppetdf = muppetdf\n",
    "\n",
    "newmuppetdf.loc[\"Kermit\",\"MuppetType\"] = \"Lizard\" #change in newmuppetdf\n",
    "\n",
    "display(muppetdf.loc[\"Kermit\",\"MuppetType\"]) #it appears in original muppetdf"
   ]
  }
 ],
 "metadata": {
  "kernelspec": {
   "display_name": "Python 3",
   "language": "python",
   "name": "python3"
  },
  "language_info": {
   "codemirror_mode": {
    "name": "ipython",
    "version": 3
   },
   "file_extension": ".py",
   "mimetype": "text/x-python",
   "name": "python",
   "nbconvert_exporter": "python",
   "pygments_lexer": "ipython3",
   "version": "3.7.3"
  }
 },
 "nbformat": 4,
 "nbformat_minor": 4
}
