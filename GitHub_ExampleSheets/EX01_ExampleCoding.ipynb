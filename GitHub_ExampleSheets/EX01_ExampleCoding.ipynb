{
 "cells": [
  {
   "cell_type": "markdown",
   "metadata": {},
   "source": [
    "# Example Sheet. Chapter 1: Data Science and the Art of Programming\n",
    "\n",
    "**Book: From Social Science to Data Science** \n",
    "\n",
    "**Author: Bernie Hogan**\n",
    "\n",
    "**Last revision: September 19, 2019**"
   ]
  },
  {
   "cell_type": "markdown",
   "metadata": {},
   "source": [
    "# Marginal costs to fixed costs - Code as abstraction\n",
    "\n",
    "In the first example, we see duplicated code. In the second example, the use of the ```for``` loop means we can feed new data without writing new code. It was a higher fixed cost to write a for loop and the collections but it means we can do the same thing more efficiently for every additional unit of data. "
   ]
  },
  {
   "cell_type": "code",
   "execution_count": null,
   "metadata": {},
   "outputs": [],
   "source": [
    "# Name from email\n",
    "email1 = \"Bernie.Hogan@gmail.com\"\n",
    "email_parts = email1.split(\"@\")\n",
    "name1 = email_parts[0]\n",
    "\n",
    "email2 = \"Scott.Hale@oii.ox.ac.uk\"\n",
    "email_parts = email2.split(\"@\")\n",
    "name2 = email_parts[0]\n",
    "print(name1,name2)"
   ]
  },
  {
   "cell_type": "code",
   "execution_count": null,
   "metadata": {},
   "outputs": [],
   "source": [
    "# Attempt number 2\n",
    "email_list = [\"bernie.Hogan@gmail.com\",\"Scott.Hale@oii.ox.ac.uk\",\"Taha.Yasseri@oii.ox.ac.uk\"]\n",
    "names = []\n",
    "for email in email_list: \n",
    "    names.append(email.split(\"@\")[0])\n",
    "print(names)"
   ]
  },
  {
   "cell_type": "markdown",
   "metadata": {},
   "source": [
    "# FREE Coding \n",
    "\n",
    "FREE coding is an mnemonic anagram I came up with to help you prioritise your coding goals. It stands for code that is:\n",
    "* __F__unctional\n",
    "* __R__obust\n",
    "* __E__legant\n",
    "* __E__fficient \n",
    "In that order. \n",
    "\n",
    "Below is an example that moves through these stages for a function that squares a number. At first it is functional insofar as it works, but it is fragile and very specific. The subsequent examples demonstrate how to make it more robust, elegant (in terms of compactness and clarity), and efficient, which might mean more generalisable as well as using more optimal algorithms. "
   ]
  },
  {
   "cell_type": "markdown",
   "metadata": {},
   "source": [
    "## An example that is functional"
   ]
  },
  {
   "cell_type": "markdown",
   "metadata": {},
   "source": [
    "This example will return the square of a number, no more, no less."
   ]
  },
  {
   "cell_type": "code",
   "execution_count": null,
   "metadata": {},
   "outputs": [],
   "source": [
    "def square(number):\n",
    "    squarednumber = number * number  \n",
    "    return squarednumber\n",
    "\n",
    "print(square(3))"
   ]
  },
  {
   "cell_type": "markdown",
   "metadata": {},
   "source": [
    "## An example that is more robust"
   ]
  },
  {
   "cell_type": "markdown",
   "metadata": {},
   "source": [
    "Here we check the input to ensure that it is a number. This way ```square(\"derp\")``` will return False rather than halt our program. "
   ]
  },
  {
   "cell_type": "code",
   "execution_count": null,
   "metadata": {},
   "outputs": [],
   "source": [
    "import numbers \n",
    "\n",
    "def square(number):\n",
    "    if isinstance(number, numbers.Number):\n",
    "        squarednumber = number * number  \n",
    "        return squarednumber\n",
    "    else:\n",
    "        return False\n",
    "\n",
    "print(square(\"b\"))\n",
    "print(square(3))"
   ]
  },
  {
   "cell_type": "markdown",
   "metadata": {},
   "source": [
    "## An example that is more elegant"
   ]
  },
  {
   "cell_type": "markdown",
   "metadata": {},
   "source": [
    "This is not changed much from the previous except we have factored out the use of squared number and simply returned the square. It will not make much difference but it does highlight how it is possible to simplify code and maintain its functionality and robustness."
   ]
  },
  {
   "cell_type": "code",
   "execution_count": null,
   "metadata": {},
   "outputs": [],
   "source": [
    "def square(number):\n",
    "    if isinstance(number, numbers.Number):\n",
    "        return number * number\n",
    "    else:\n",
    "        return False\n",
    "    \n",
    "print(square(\"b\"))\n",
    "print(square(3))    "
   ]
  },
  {
   "cell_type": "markdown",
   "metadata": {},
   "source": [
    "# An example that is more efficient\n",
    "This is more efficient in the sense that it can now do much more with very little extra overhead. However, it is not an ideal example. Later on when we introduce DataFrames, I will show another example using the ```%%timeit``` module for Jupyter. There you will be able to see the considerable difference between different approaches for adding data to a DataFrame. "
   ]
  },
  {
   "cell_type": "code",
   "execution_count": null,
   "metadata": {},
   "outputs": [],
   "source": [
    "def powersOf(number,power = 2):\n",
    "    if isinstance(number, numbers.Number):\n",
    "        return number ** power\n",
    "    else:\n",
    "        return False\n",
    "    \n",
    "print(powersOf(\"b\",3))\n",
    "print(powersOf(3,4))    "
   ]
  }
 ],
 "metadata": {
  "kernelspec": {
   "display_name": "Python 3",
   "language": "python",
   "name": "python3"
  },
  "language_info": {
   "codemirror_mode": {
    "name": "ipython",
    "version": 3
   },
   "file_extension": ".py",
   "mimetype": "text/x-python",
   "name": "python",
   "nbconvert_exporter": "python",
   "pygments_lexer": "ipython3",
   "version": "3.7.3"
  }
 },
 "nbformat": 4,
 "nbformat_minor": 4
}
